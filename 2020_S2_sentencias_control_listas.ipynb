{
 "cells": [
  {
   "cell_type": "markdown",
   "metadata": {},
   "source": [
    "# Python para el análisis de datos -  UNAV 2020-2021\n",
    "---\n",
    "\n",
    "# Notebook 2: Estructuras de control condicional y listas"
   ]
  },
  {
   "cell_type": "markdown",
   "metadata": {},
   "source": [
    "## Índice  <a name=\"indice\"></a>\n",
    "\n",
    "- [Estructuras de control condicional](#estructuras_control_condicional)\n",
    "    - [Condicional <i>if</i>](#condicional_if)\n",
    "    - [Condicional <i>else</i> y <i>elif</i>](#condicional_else_elif)\n",
    "    - [Sentencia <i>pass</i>](#sentencia_pass)\n",
    "    \n",
    "- [Listas](#listas)\n",
    "    - [Indexación y slicing](#indexing_slicing)\n",
    "    - [Operadores y funciones integradas](#operadores_built_in)\n",
    "    - [Listas anidadas](#listas_anidadas)\n",
    "    - [Listas: dinámicas y mutables](#listas_dinamicas_multables)\n",
    "    - [Listas: métodos](#listas_metodos)\n",
    "    - [Listas y cadenas de caracteres](#listas_cadenas)\n",
    "    \n",
    "- [Ejercicios](#ejercicios)"
   ]
  },
  {
   "cell_type": "markdown",
   "metadata": {},
   "source": [
    "## Estructuras de control condicional<a name=\"estructuras_control_condicional\"></a> \n",
    "[Volver al índice](#indice)"
   ]
  },
  {
   "cell_type": "markdown",
   "metadata": {},
   "source": [
    "En la clase anterior vimos que todas las sentencias se ejecutaban de forma secuencial, es decir, todas las sentencias se ejecutaban en el orden especificado. En esta sección emplearemos estructuras de control condicional para dirigir el orden de ejecución de las sentencias de código."
   ]
  },
  {
   "cell_type": "markdown",
   "metadata": {},
   "source": [
    "### Condicional <i>if</i><a name=\"condicional_if\"></a> \n",
    "[Volver al índice](#indice)"
   ]
  },
  {
   "cell_type": "markdown",
   "metadata": {},
   "source": [
    "La sentencia <i>if</i> es la estructura de control condicional más sencilla y sigue la siguiente estructura:\n",
    "\n",
    "<pre>\n",
    "<span style=\"color:blue\">if condición</span>:\n",
    "    <span style=\"color:green\">sentencia 1</span>\n",
    "    <span style=\"color:green\">sentencia 2</span>\n",
    "    <span style=\"color:green\">...</span>\n",
    "    <span style=\"color:green\">sentencia n</span>\n",
    "\n",
    "<span style=\"color:blue\">siguiente sentencia</span>\n",
    "</pre>\n",
    "\n",
    "\n",
    "<span style=\"color:blue\">**condición**</span> es una operación lógica/relacional que da como resultado un booleano, mientras que el conjunto de <span style=\"color:green\">**sentencia 1...n**</span> es el bloque de sentencias que se ejecutan si el booleano es <i>True</i>. Si <span style=\"color:blue\">**condición**</span> es <i>False</i> no se ejecuta el bloque y salta a <span style=\"color:blue\">**siguiente sentencia**</span>.\n",
    "\n",
    "---\n",
    "&#x26a0;&#xfe0f; Indentación: las sentencias en el bloque después del <i>if</i> deben ser indentadas. El uso de indentación para definir bloques es una de las particularidades de Python y difiere del enfoque empleado en la mayoría de lenguajes de programación. En Python se puede indentar con 4 espacios (opción preferida) ó 1 tabulación, ver: https://www.python.org/dev/peps/pep-0008/#indentation\n",
    "\n",
    "---"
   ]
  },
  {
   "cell_type": "code",
   "execution_count": 1,
   "metadata": {},
   "outputs": [
    {
     "name": "stdout",
     "output_type": "stream",
     "text": [
      "valor 15 es mayor que el umbral 10.\n"
     ]
    }
   ],
   "source": [
    "valor = 15\n",
    "umbral = 10\n",
    "\n",
    "if valor > umbral:\n",
    "    print(\"valor {} es mayor que el umbral {}.\".format(valor, umbral))"
   ]
  },
  {
   "cell_type": "code",
   "execution_count": 2,
   "metadata": {},
   "outputs": [
    {
     "name": "stdout",
     "output_type": "stream",
     "text": [
      "Es verdadero.\n"
     ]
    }
   ],
   "source": [
    "if True:\n",
    "    print(\"Es verdadero.\")\n",
    "    \n",
    "if False:\n",
    "    print(\"Es falso.\")"
   ]
  },
  {
   "cell_type": "markdown",
   "metadata": {},
   "source": [
    "Podemos generar estructuras de control condicional más complejas anidando varios <i>if</i> y empleando multiples operadores lógicos y relacionales (todos dando como resultado <i>True</i> o <i>False</i>)."
   ]
  },
  {
   "cell_type": "code",
   "execution_count": 3,
   "metadata": {},
   "outputs": [
    {
     "name": "stdout",
     "output_type": "stream",
     "text": [
      "Aritmética con x o y de tipo punto flotante: x = 4, y = 5.2 Los resultados serán de tipo punto flotante.\n",
      "x + y = 9.2\n",
      "x ** y = 1351.1761006314441\n",
      "Repaso operaciones aritmética completado.\n"
     ]
    }
   ],
   "source": [
    "x = 4\n",
    "y = 5.2\n",
    "\n",
    "if x != 0 and y >= x:\n",
    "    if isinstance(x, int) and isinstance(y, int):\n",
    "        print(\"Aritmética con enteros: x = {}, y = {} \"\n",
    "              \"Los resultados serán de tipo entero.\".format(x, y))\n",
    "        print(\"x + y = {}\".format(x + y))\n",
    "        print(\"x ** y = {}\".format(x ** y))\n",
    "\n",
    "    if isinstance(x, float) or isinstance(y, float):\n",
    "        print(\"Aritmética con x o y de tipo punto flotante: x = {}, y = {} \"\n",
    "              \"Los resultados serán de tipo punto flotante.\".format(x, y))\n",
    "        print(\"x + y = {}\".format(x + y))\n",
    "        print(\"x ** y = {}\".format(x ** y))\n",
    "\n",
    "    print(\"Repaso operaciones aritmética completado.\")"
   ]
  },
  {
   "cell_type": "markdown",
   "metadata": {},
   "source": [
    "### Condicional <i>else</i> y <i>elif</i><a name=\"condicional_else_elif\"></a> \n",
    "[Volver al índice](#indice)"
   ]
  },
  {
   "cell_type": "markdown",
   "metadata": {},
   "source": [
    "Las estructuras <i>if-else</i> e <i>if-elif-else</i> nos permiten tener varias alternativas en la ejecución del código, dependiendo del resultado de una o varias condiciones. En primer lugar, veamos el uso de la estructura de control condicional <i>if-else</i> que sigue la siguiente estructura:\n",
    "\n",
    "<pre>\n",
    "<span style=\"color:blue\">if condición</span>:\n",
    "    <span style=\"color:green\">sentencia 1</span>\n",
    "    <span style=\"color:green\">sentencia 2</span>\n",
    "    <span style=\"color:green\">...</span>\n",
    "    <span style=\"color:green\">sentencia n</span>\n",
    "<span style=\"color:red\">else</span>:\n",
    "    <span style=\"color:green\">sentencia 1</span>\n",
    "    <span style=\"color:green\">sentencia 2</span>\n",
    "    <span style=\"color:green\">...</span>\n",
    "    <span style=\"color:green\">sentencia n</span>\n",
    "\n",
    "<span style=\"color:blue\">siguiente sentencia</span>\n",
    "</pre>\n",
    "\n",
    "\n",
    "Esta estructura nos permite evaluar el bloque de sentencias alternativa tras <span style=\"color:red\">**else**</span> si la <span style=\"color:blue\">**condición**</span> no se cumple (es <i>False</i>)."
   ]
  },
  {
   "cell_type": "code",
   "execution_count": 4,
   "metadata": {},
   "outputs": [
    {
     "name": "stdout",
     "output_type": "stream",
     "text": [
      "suspendido\n"
     ]
    }
   ],
   "source": [
    "x = 4\n",
    "\n",
    "if x >= 5:\n",
    "    print(\"aprobado\")\n",
    "else:\n",
    "    print(\"suspendido\")"
   ]
  },
  {
   "cell_type": "markdown",
   "metadata": {},
   "source": [
    "La estructura <i>if-elif-else</i> es similar pero permite evaluar más de una condición. El término <i>elif</i> es una abreviatura de \"else if\". No hay límite al número de sentencias <i>elif</i>, pero sólo se permite una sentencia <i>else</i> (que es opcional), que se ejecuta si ninguna de las condiciones anteriores se satisface. La estructura de control condicional <i>if-elif-else</i> sigue la siguiente estructura:\n",
    "\n",
    "<pre>\n",
    "<span style=\"color:blue\">if condición 1</span>:\n",
    "    <span style=\"color:green\">sentencias</span>\n",
    "<span style=\"color:orange\">elif condición 2</span>:\n",
    "    <span style=\"color:green\">sentencias</span>\n",
    "<span style=\"color:orange\">elif condición *</span>:\n",
    "    <span style=\"color:green\">sentencias</span>\n",
    "<span style=\"color:red\">else</span>:\n",
    "    <span style=\"color:green\">sentencias</span>\n",
    "\n",
    "<span style=\"color:blue\">siguiente sentencia</span>\n",
    "</pre>\n"
   ]
  },
  {
   "cell_type": "code",
   "execution_count": 5,
   "metadata": {},
   "outputs": [
    {
     "name": "stdout",
     "output_type": "stream",
     "text": [
      "0 <= 3.99 < 4\n"
     ]
    }
   ],
   "source": [
    "x = 3.99\n",
    "\n",
    "if x < 0:\n",
    "    print(f\"{x} <= 0\")\n",
    "elif x < 4:\n",
    "    print(f\"0 <= {x} < 4\")\n",
    "elif x < 7:\n",
    "    print(f\"4 <= {x} < 7\")\n",
    "else:\n",
    "    print(f\"{x} >= 7\")"
   ]
  },
  {
   "cell_type": "code",
   "execution_count": 6,
   "metadata": {},
   "outputs": [
    {
     "name": "stdout",
     "output_type": "stream",
     "text": [
      "a\n"
     ]
    }
   ],
   "source": [
    "x = \"a\"\n",
    "\n",
    "if isinstance(x, str):\n",
    "    if x == \"a\":\n",
    "        print(x * 1)\n",
    "    elif x == \"b\":\n",
    "        print(x * 2)\n",
    "else:\n",
    "    print(f\"x debe ser de tipo cadena (str), pero es de tipo {type(x)}.\")"
   ]
  },
  {
   "cell_type": "markdown",
   "metadata": {},
   "source": [
    "#### Expresión condicional"
   ]
  },
  {
   "cell_type": "markdown",
   "metadata": {},
   "source": [
    "Las expresiones condicional nos permiten asignar un valor a una variable, o ejecutar una sentencia dependiendo del resultado de una condición. Una expresión condicional tiene la siguiente estructura:\n",
    "\n",
    "<pre>\n",
    "sentencia 1 <span style=\"color:blue\">if condición</span> <span style=\"color:red\">else</span> sentencia 2\n",
    "</pre>\n",
    "\n",
    "Veamos algunos ejemplos:"
   ]
  },
  {
   "cell_type": "code",
   "execution_count": 7,
   "metadata": {},
   "outputs": [
    {
     "name": "stdout",
     "output_type": "stream",
     "text": [
      "False\n"
     ]
    }
   ],
   "source": [
    "condicion = False\n",
    "print(\"verdadero\" if condicion else \"False\")"
   ]
  },
  {
   "cell_type": "code",
   "execution_count": 8,
   "metadata": {},
   "outputs": [
    {
     "name": "stdout",
     "output_type": "stream",
     "text": [
      "True (aprobado)\n"
     ]
    }
   ],
   "source": [
    "x = 5\n",
    "\n",
    "aprobado = True if x >= 5 else False\n",
    "veredicto = \"aprobado\" if x >= 5 else \"suspendido\"\n",
    "\n",
    "print(f\"{aprobado} ({veredicto})\")"
   ]
  },
  {
   "cell_type": "code",
   "execution_count": 9,
   "metadata": {},
   "outputs": [
    {
     "name": "stdout",
     "output_type": "stream",
     "text": [
      "10240000000011\n"
     ]
    }
   ],
   "source": [
    "x, y = 20, 10\n",
    "z = 1 + (x ** y if x > y else x ** (0.5 * y)) + (x - y)\n",
    "print(z)"
   ]
  },
  {
   "cell_type": "markdown",
   "metadata": {},
   "source": [
    "Es importante entender como se ejecuta una expresión condicional por el intérprete:\n",
    "\n",
    "* if condición True devuelve sentencia 1 y no evalua sentencia 2.\n",
    "* if condición False devuelve sentencia 2 y no evalua sentencia 1.\n",
    "\n",
    "Esto se denomina <i>evaluación de cortocircuito</i>. Enlace de interés: https://en.wikipedia.org/wiki/Short-circuit_evaluation."
   ]
  },
  {
   "cell_type": "code",
   "execution_count": 10,
   "metadata": {},
   "outputs": [
    {
     "name": "stdout",
     "output_type": "stream",
     "text": [
      "5\n"
     ]
    }
   ],
   "source": [
    "x = 3\n",
    "y = 2\n",
    "\n",
    "operacion = \"suma\"\n",
    "\n",
    "resultado = x + y if operacion == \"suma\" else x - y\n",
    "\n",
    "print(resultado)"
   ]
  },
  {
   "cell_type": "code",
   "execution_count": 11,
   "metadata": {},
   "outputs": [
    {
     "name": "stdout",
     "output_type": "stream",
     "text": [
      "0.0\n"
     ]
    }
   ],
   "source": [
    "x = 1\n",
    "y = 0\n",
    "\n",
    "condicion = False\n",
    "resultado = x / y if condicion else y / x\n",
    "\n",
    "print(resultado)"
   ]
  },
  {
   "cell_type": "markdown",
   "metadata": {},
   "source": [
    "### Sentencia <i>pass</i> <a name=\"sentencia_pass\"></a> \n",
    "[Volver al índice](#indice)"
   ]
  },
  {
   "cell_type": "markdown",
   "metadata": {},
   "source": [
    "La sentencia <i>pass</i> se suele emplear para indicar que el futuro se debe crear una sentencia en su lugar. Es una forma de reservar un espacio y suele ser útil durante el desarrollo de programas más complejos."
   ]
  },
  {
   "cell_type": "code",
   "execution_count": 12,
   "metadata": {},
   "outputs": [
    {
     "ename": "IndentationError",
     "evalue": "expected an indented block (<ipython-input-12-dc3d5ee38d2e>, line 3)",
     "output_type": "error",
     "traceback": [
      "\u001b[0;36m  File \u001b[0;32m\"<ipython-input-12-dc3d5ee38d2e>\"\u001b[0;36m, line \u001b[0;32m3\u001b[0m\n\u001b[0;31m    print(\"primer print\")\u001b[0m\n\u001b[0m        ^\u001b[0m\n\u001b[0;31mIndentationError\u001b[0m\u001b[0;31m:\u001b[0m expected an indented block\n"
     ]
    }
   ],
   "source": [
    "if True:\n",
    "    \n",
    "print(\"primer print\")"
   ]
  },
  {
   "cell_type": "code",
   "execution_count": 13,
   "metadata": {},
   "outputs": [
    {
     "name": "stdout",
     "output_type": "stream",
     "text": [
      "pass no realiza acción alguna. Es un operador nulo.\n",
      "primer print\n"
     ]
    }
   ],
   "source": [
    "if True:\n",
    "    pass\n",
    "    print(\"pass no realiza acción alguna. Es un operador nulo.\")\n",
    "    \n",
    "print(\"primer print\")"
   ]
  },
  {
   "cell_type": "markdown",
   "metadata": {},
   "source": [
    "## Listas<a name=\"listas\"></a> \n",
    "[Volver al índice](#indice)"
   ]
  },
  {
   "cell_type": "markdown",
   "metadata": {},
   "source": [
    "Una lista es una colección de valores arbitrarios que se puede almacenar en una variable. Una lista en Python se define como una secuencia de valores separados por comas y delimitada por corchetes, [ ]:\n",
    "\n",
    "<pre>my_lista = [a, b, c]</pre>\n",
    "\n",
    "Las listas:\n",
    "* Están ordenadas y no son únicamente una colección de valores.\n",
    "* Pueden contener cualquier tipo de valor u objeto.\n",
    "* Se puede acceder a sus elementos vía indexación.\n",
    "* Pueden anidar un número de listas arbitrario.\n",
    "* Son dinámicas y mutables."
   ]
  },
  {
   "cell_type": "markdown",
   "metadata": {},
   "source": [
    "El orden en el que se especifican los valores de una lista es relevante.\n",
    "\n",
    "---\n",
    "&#x26a0;&#xfe0f; En la siguiente clase veremos dos estructuras de datos (sets y diccionarios), donde el orden no es una característica innata.\n",
    "\n",
    "---"
   ]
  },
  {
   "cell_type": "code",
   "execution_count": 14,
   "metadata": {},
   "outputs": [
    {
     "name": "stdout",
     "output_type": "stream",
     "text": [
      "False\n"
     ]
    }
   ],
   "source": [
    "a = [1, 2, 3]\n",
    "b = [2, 3, 1]\n",
    "\n",
    "print(a == b)"
   ]
  },
  {
   "cell_type": "markdown",
   "metadata": {},
   "source": [
    "Una lista puede contener cualquier tipo de valor u objeto."
   ]
  },
  {
   "cell_type": "code",
   "execution_count": 15,
   "metadata": {},
   "outputs": [
    {
     "name": "stdout",
     "output_type": "stream",
     "text": [
      "[1.1, '2', 3] <class 'list'>\n"
     ]
    }
   ],
   "source": [
    "a = [1.1, \"2\", 3]\n",
    "\n",
    "print(a, type(a))"
   ]
  },
  {
   "cell_type": "markdown",
   "metadata": {},
   "source": [
    "El número de elementos de una lista sólo está limitado por la memoria disponible."
   ]
  },
  {
   "cell_type": "markdown",
   "metadata": {},
   "source": [
    "### Indexación y slicing<a name=\"indexing_slicing\"></a> \n",
    "[Volver al índice](#indice)"
   ]
  },
  {
   "cell_type": "markdown",
   "metadata": {},
   "source": [
    "#### Indexación"
   ]
  },
  {
   "cell_type": "markdown",
   "metadata": {},
   "source": [
    "Indexación es la propiedad de acceder a uno o varios elementos de una lista mediante un índice. El índice se especifica entre corchetes. Python emplea una indexación con base $0$, es decir, la primera posición corresponde al índice $0$ y la última al índice $n-1$, donde $n$ es el número de elementos de la lista.\n",
    "\n",
    "<pre>\n",
    "    valores: [\"primero\", \"segundo\", \"tercero\", \"cuarto\"]\n",
    "    índices: [    0    ,     1    ,     2    ,    3    ]\n",
    "</pre>"
   ]
  },
  {
   "cell_type": "code",
   "execution_count": 16,
   "metadata": {},
   "outputs": [
    {
     "name": "stdout",
     "output_type": "stream",
     "text": [
      "Kernighan\n",
      "Stroustrup\n"
     ]
    }
   ],
   "source": [
    "autores = [\"Kernighan\", \"Ritchie\", \"Thompson\", \"Stroustrup\"]\n",
    "print(autores[0])  # accede al primer elemento de la lista\n",
    "print(autores[3])  # accede al último elemento de la lista"
   ]
  },
  {
   "cell_type": "code",
   "execution_count": 17,
   "metadata": {},
   "outputs": [
    {
     "name": "stdout",
     "output_type": "stream",
     "text": [
      "kernighan\n"
     ]
    }
   ],
   "source": [
    "print(autores[0].lower())"
   ]
  },
  {
   "cell_type": "markdown",
   "metadata": {},
   "source": [
    "El número de elementos es $n = 4$, por lo que cualquier índice mayor a $3$ nos dará un error de índice fuera de rango."
   ]
  },
  {
   "cell_type": "code",
   "execution_count": 18,
   "metadata": {},
   "outputs": [
    {
     "ename": "IndexError",
     "evalue": "list index out of range",
     "output_type": "error",
     "traceback": [
      "\u001b[0;31m---------------------------------------------------------------------------\u001b[0m",
      "\u001b[0;31mIndexError\u001b[0m                                Traceback (most recent call last)",
      "\u001b[0;32m<ipython-input-18-d26b8edb4754>\u001b[0m in \u001b[0;36m<module>\u001b[0;34m\u001b[0m\n\u001b[0;32m----> 1\u001b[0;31m \u001b[0mprint\u001b[0m\u001b[0;34m(\u001b[0m\u001b[0mautores\u001b[0m\u001b[0;34m[\u001b[0m\u001b[0;36m4\u001b[0m\u001b[0;34m]\u001b[0m\u001b[0;34m)\u001b[0m\u001b[0;34m\u001b[0m\u001b[0;34m\u001b[0m\u001b[0m\n\u001b[0m",
      "\u001b[0;31mIndexError\u001b[0m: list index out of range"
     ]
    }
   ],
   "source": [
    "print(autores[4])"
   ]
  },
  {
   "cell_type": "markdown",
   "metadata": {},
   "source": [
    "También podemos acceder a los elementos de una lista empleando índices negativos. Los índices negativos representan las últimas posiciones.\n",
    "\n",
    "<pre>\n",
    "    valores: [\"primero\", \"segundo\", \"tercero\", \"cuarto\"]\n",
    "    índices: [   -4    ,     -3   ,     -2   ,    -1   ]\n",
    "</pre>"
   ]
  },
  {
   "cell_type": "code",
   "execution_count": 19,
   "metadata": {},
   "outputs": [
    {
     "name": "stdout",
     "output_type": "stream",
     "text": [
      "Stroustrup\n",
      "Kernighan\n"
     ]
    }
   ],
   "source": [
    "print(autores[-1])\n",
    "print(autores[-4])"
   ]
  },
  {
   "cell_type": "markdown",
   "metadata": {},
   "source": [
    "Igual que empleando índices positivos, si el valor del índice es menor a $-n$ se produce un error de índice fuera de rango."
   ]
  },
  {
   "cell_type": "code",
   "execution_count": 20,
   "metadata": {},
   "outputs": [
    {
     "ename": "IndexError",
     "evalue": "list index out of range",
     "output_type": "error",
     "traceback": [
      "\u001b[0;31m---------------------------------------------------------------------------\u001b[0m",
      "\u001b[0;31mIndexError\u001b[0m                                Traceback (most recent call last)",
      "\u001b[0;32m<ipython-input-20-43eb9282dae5>\u001b[0m in \u001b[0;36m<module>\u001b[0;34m\u001b[0m\n\u001b[0;32m----> 1\u001b[0;31m \u001b[0mprint\u001b[0m\u001b[0;34m(\u001b[0m\u001b[0mautores\u001b[0m\u001b[0;34m[\u001b[0m\u001b[0;34m-\u001b[0m\u001b[0;36m6\u001b[0m\u001b[0;34m]\u001b[0m\u001b[0;34m)\u001b[0m\u001b[0;34m\u001b[0m\u001b[0;34m\u001b[0m\u001b[0m\n\u001b[0m",
      "\u001b[0;31mIndexError\u001b[0m: list index out of range"
     ]
    }
   ],
   "source": [
    "print(autores[-6])"
   ]
  },
  {
   "cell_type": "markdown",
   "metadata": {},
   "source": [
    "#### Cortes (slicing)"
   ]
  },
  {
   "cell_type": "markdown",
   "metadata": {},
   "source": [
    "Slicing es la operación de extraer un subconjunto de elementos de una lista. El resultado es un objeto de tipo lista. Esta operación se suele emplear para extraer los primeros o los últimos $m$ elementos de una lista. Veamos algunos ejemplos."
   ]
  },
  {
   "cell_type": "code",
   "execution_count": 21,
   "metadata": {},
   "outputs": [
    {
     "name": "stdout",
     "output_type": "stream",
     "text": [
      "<class 'list'>\n",
      "[2, 3, 4]\n",
      "[2, 3, 4, 5]\n"
     ]
    }
   ],
   "source": [
    "numeros = [0, 1, 2, 3, 4, 5, 6]\n",
    "\n",
    "print(type(numeros[2:5]))\n",
    "print(numeros[2:5])\n",
    "print(numeros[-5:-1])"
   ]
  },
  {
   "cell_type": "markdown",
   "metadata": {},
   "source": [
    "Los primeros 4 números de una lista."
   ]
  },
  {
   "cell_type": "code",
   "execution_count": 22,
   "metadata": {},
   "outputs": [
    {
     "name": "stdout",
     "output_type": "stream",
     "text": [
      "[0, 1, 2, 3] [0, 1, 2, 3]\n"
     ]
    }
   ],
   "source": [
    "print(numeros[:4], numeros[0:4])"
   ]
  },
  {
   "cell_type": "markdown",
   "metadata": {},
   "source": [
    "Desde el índice 2 hasta el último."
   ]
  },
  {
   "cell_type": "code",
   "execution_count": 23,
   "metadata": {},
   "outputs": [
    {
     "name": "stdout",
     "output_type": "stream",
     "text": [
      "[2, 3, 4, 5, 6]\n"
     ]
    }
   ],
   "source": [
    "print(numeros[2:])"
   ]
  },
  {
   "cell_type": "markdown",
   "metadata": {},
   "source": [
    "Los cortes extendidos (striding) son una extensión de los cortes donde se modifica el paso, por defecto 1. Algunos ejemplos:"
   ]
  },
  {
   "cell_type": "code",
   "execution_count": 24,
   "metadata": {},
   "outputs": [
    {
     "data": {
      "text/plain": [
       "True"
      ]
     },
     "execution_count": 24,
     "metadata": {},
     "output_type": "execute_result"
    }
   ],
   "source": [
    "numeros[2:4] == numeros[2:4:1]"
   ]
  },
  {
   "cell_type": "code",
   "execution_count": 25,
   "metadata": {},
   "outputs": [
    {
     "name": "stdout",
     "output_type": "stream",
     "text": [
      "[0, 2, 4]\n",
      "True\n"
     ]
    }
   ],
   "source": [
    "print(numeros[0:5:2])\n",
    "print(numeros[0:5:2] == numeros[:5:2])"
   ]
  },
  {
   "cell_type": "code",
   "execution_count": 26,
   "metadata": {},
   "outputs": [
    {
     "name": "stdout",
     "output_type": "stream",
     "text": [
      "[1, 4]\n",
      "[6]\n"
     ]
    }
   ],
   "source": [
    "print(numeros[1::3])\n",
    "print(numeros[-1:5:-1])"
   ]
  },
  {
   "cell_type": "markdown",
   "metadata": {},
   "source": [
    "Este tipo de operación nos permite invertir una cadena. Más tarde veremos otro método para realizar la inversión."
   ]
  },
  {
   "cell_type": "code",
   "execution_count": 27,
   "metadata": {},
   "outputs": [
    {
     "name": "stdout",
     "output_type": "stream",
     "text": [
      "[0, 1, 2, 3, 4, 5, 6]\n",
      "[6, 5, 4, 3, 2, 1, 0]\n"
     ]
    }
   ],
   "source": [
    "print(numeros[::])\n",
    "print(numeros[::-1])"
   ]
  },
  {
   "cell_type": "markdown",
   "metadata": {},
   "source": [
    "#### Copia de lista [:]"
   ]
  },
  {
   "cell_type": "markdown",
   "metadata": {},
   "source": [
    "El índice [:] realiza una copia de la lista. El operador <i>is</i> nos indica que es un nuevo objeto."
   ]
  },
  {
   "cell_type": "code",
   "execution_count": 28,
   "metadata": {},
   "outputs": [
    {
     "name": "stdout",
     "output_type": "stream",
     "text": [
      "False\n",
      "True\n"
     ]
    }
   ],
   "source": [
    "c_numeros = numeros[:]\n",
    "\n",
    "print(c_numeros is numeros)\n",
    "print(c_numeros == numeros)"
   ]
  },
  {
   "cell_type": "markdown",
   "metadata": {},
   "source": [
    "### Operadores y funciones integradas<a name=\"operadores_built_in\"></a> \n",
    "[Volver al índice](#indice)"
   ]
  },
  {
   "cell_type": "markdown",
   "metadata": {},
   "source": [
    "#### Operador <i>in</i>"
   ]
  },
  {
   "cell_type": "markdown",
   "metadata": {},
   "source": [
    "El operador lógico <i>in</i> nos permite evaluar si un valor se encuentra en una lista. El resultado es un booleano, <i>True</i> si el valor pertenece a la lista y <i>False</i> en caso contrario."
   ]
  },
  {
   "cell_type": "code",
   "execution_count": 29,
   "metadata": {},
   "outputs": [
    {
     "name": "stdout",
     "output_type": "stream",
     "text": [
      "['Kernighan', 'Ritchie', 'Thompson', 'Stroustrup']\n",
      "True\n",
      "False\n"
     ]
    }
   ],
   "source": [
    "print(autores)\n",
    "print(\"Ritchie\" in autores)\n",
    "print(\"Guido\" in autores)"
   ]
  },
  {
   "cell_type": "markdown",
   "metadata": {},
   "source": [
    "Podemos combinar el operador <i>in</i> con el operador de negación <i>not</i> que vimos en la clase anterior. Por ejemplo, "
   ]
  },
  {
   "cell_type": "code",
   "execution_count": 30,
   "metadata": {},
   "outputs": [
    {
     "name": "stdout",
     "output_type": "stream",
     "text": [
      "'Gosling' no se encuentra en la lista de autores: ['Kernighan', 'Ritchie', 'Thompson', 'Stroustrup'].\n"
     ]
    }
   ],
   "source": [
    "autor = \"Gosling\"\n",
    "if autor not in autores:\n",
    "    print(f\"'{autor}' no se encuentra en la lista de autores: {autores}.\")"
   ]
  },
  {
   "cell_type": "markdown",
   "metadata": {},
   "source": [
    "#### Concatenación y multiplicación de listas"
   ]
  },
  {
   "cell_type": "markdown",
   "metadata": {},
   "source": [
    "La concatenación y multiplicación de listas es igual que para cadenas de caracteres. Las concatenaciones se realizan entre objetos del mismo tipo, en este caso listas."
   ]
  },
  {
   "cell_type": "code",
   "execution_count": 31,
   "metadata": {},
   "outputs": [
    {
     "name": "stdout",
     "output_type": "stream",
     "text": [
      "['a', 'b', 'c', 'd'] ['a', 'b', 'c', 'd', 'e']\n"
     ]
    }
   ],
   "source": [
    "lista_1 = [\"a\", \"b\", \"c\", \"d\"]\n",
    "\n",
    "lista_2 = lista_1 + [\"e\"]\n",
    "print(lista_1, lista_2)"
   ]
  },
  {
   "cell_type": "code",
   "execution_count": 32,
   "metadata": {},
   "outputs": [
    {
     "ename": "TypeError",
     "evalue": "can only concatenate list (not \"str\") to list",
     "output_type": "error",
     "traceback": [
      "\u001b[0;31m---------------------------------------------------------------------------\u001b[0m",
      "\u001b[0;31mTypeError\u001b[0m                                 Traceback (most recent call last)",
      "\u001b[0;32m<ipython-input-32-cb4a1f7ba3b7>\u001b[0m in \u001b[0;36m<module>\u001b[0;34m\u001b[0m\n\u001b[0;32m----> 1\u001b[0;31m \u001b[0mlista_2\u001b[0m \u001b[0;34m=\u001b[0m \u001b[0mlista_1\u001b[0m \u001b[0;34m+\u001b[0m \u001b[0;34m\"e\"\u001b[0m\u001b[0;34m\u001b[0m\u001b[0;34m\u001b[0m\u001b[0m\n\u001b[0m",
      "\u001b[0;31mTypeError\u001b[0m: can only concatenate list (not \"str\") to list"
     ]
    }
   ],
   "source": [
    "lista_2 = lista_1 + \"e\""
   ]
  },
  {
   "cell_type": "code",
   "execution_count": 33,
   "metadata": {},
   "outputs": [
    {
     "name": "stdout",
     "output_type": "stream",
     "text": [
      "['a', 'b', 'a', 'b']\n"
     ]
    }
   ],
   "source": [
    "print([\"a\", \"b\"] * 2)"
   ]
  },
  {
   "cell_type": "markdown",
   "metadata": {},
   "source": [
    "#### funciones <i>len()</i>, <i>min()</i>, <i>max()</i>, <i>sum()</i> y <i>sorted()</i>"
   ]
  },
  {
   "cell_type": "markdown",
   "metadata": {},
   "source": [
    "Hay varias funciones que aplican comunmente a listas:\n",
    "    \n",
    "* <i>len()</i>: devuelve el tamaño de la lista.\n",
    "* <i>min()</i>: devuelve el valor mínimo de la lista.\n",
    "* <i>max()</i>: devuelve el valor máximo de la lista.\n",
    "* <i>sum()</i>: devuelve la suma de los valores de la lista.\n",
    "* <i>sorted()</i>: devuelve copia de la lista ordenada."
   ]
  },
  {
   "cell_type": "code",
   "execution_count": 34,
   "metadata": {},
   "outputs": [
    {
     "name": "stdout",
     "output_type": "stream",
     "text": [
      "3\n",
      "0\n"
     ]
    }
   ],
   "source": [
    "print(len([1, 2, 3]))\n",
    "print(len([]))"
   ]
  },
  {
   "cell_type": "markdown",
   "metadata": {},
   "source": [
    "Podemos comprobar si una lista contiene elementos antes de realizar otras operaciones."
   ]
  },
  {
   "cell_type": "code",
   "execution_count": 35,
   "metadata": {},
   "outputs": [
    {
     "name": "stdout",
     "output_type": "stream",
     "text": [
      "Primer autor: Kernighan.\n"
     ]
    }
   ],
   "source": [
    "if len(autores):\n",
    "    print(f\"Primer autor: {autores[0]}.\")"
   ]
  },
  {
   "cell_type": "code",
   "execution_count": 36,
   "metadata": {},
   "outputs": [
    {
     "name": "stdout",
     "output_type": "stream",
     "text": [
      "Lista vacía.\n"
     ]
    }
   ],
   "source": [
    "if not len([]):\n",
    "    print(\"Lista vacía.\")"
   ]
  },
  {
   "cell_type": "markdown",
   "metadata": {},
   "source": [
    "Las listas con valores numéricos permiten realizar varias operaciones:"
   ]
  },
  {
   "cell_type": "code",
   "execution_count": 37,
   "metadata": {},
   "outputs": [
    {
     "name": "stdout",
     "output_type": "stream",
     "text": [
      "7\n",
      "1\n",
      "7.8\n",
      "29.0\n"
     ]
    }
   ],
   "source": [
    "lista_num = [2.2, 1, 5, 4, 3, 6, 7.8]\n",
    "\n",
    "print(len(lista_num))\n",
    "print(min(lista_num))\n",
    "print(max(lista_num))\n",
    "print(sum(lista_num))"
   ]
  },
  {
   "cell_type": "markdown",
   "metadata": {},
   "source": [
    "Las listas alfabéticas también soportan las operaciones anteriores, excepto <i>sum()</i>:"
   ]
  },
  {
   "cell_type": "code",
   "execution_count": 38,
   "metadata": {},
   "outputs": [
    {
     "name": "stdout",
     "output_type": "stream",
     "text": [
      "4\n",
      "ab\n",
      "hba\n"
     ]
    }
   ],
   "source": [
    "lista_alf = [\"ab\", \"dc\", \"hba\", \"bsd\"]\n",
    "\n",
    "print(len(lista_alf))\n",
    "print(min(lista_alf))\n",
    "print(max(lista_alf))"
   ]
  },
  {
   "cell_type": "markdown",
   "metadata": {},
   "source": [
    "Empleando el argumento **key**, podemos especificar el tipo a aplicar a los valores de una lista mixta antes de realizar una operación."
   ]
  },
  {
   "cell_type": "code",
   "execution_count": 39,
   "metadata": {},
   "outputs": [
    {
     "name": "stdout",
     "output_type": "stream",
     "text": [
      "0.1\n",
      "True\n",
      "False\n",
      "42\n"
     ]
    }
   ],
   "source": [
    "lista_mixta = [1, True, 4, False, 0.1, \"10\", 2.7, 42, \"12\"]\n",
    "\n",
    "print(min(lista_mixta, key=str))\n",
    "print(max(lista_mixta, key=str))\n",
    "print(min(lista_mixta, key=int))\n",
    "print(max(lista_mixta, key=int))"
   ]
  },
  {
   "cell_type": "markdown",
   "metadata": {},
   "source": [
    "De forma similar, la función <i>sorted()</i> nos permite ordenar los valores de una lista (por defecto en orden ascendente) y es aplicable a listas con valores de varios tipos."
   ]
  },
  {
   "cell_type": "code",
   "execution_count": 40,
   "metadata": {},
   "outputs": [
    {
     "data": {
      "text/plain": [
       "[1, 2.2, 3, 4, 5, 6, 7.8]"
      ]
     },
     "execution_count": 40,
     "metadata": {},
     "output_type": "execute_result"
    }
   ],
   "source": [
    "sorted(lista_num)"
   ]
  },
  {
   "cell_type": "markdown",
   "metadata": {},
   "source": [
    "El argumento **reverse** devuelve la lista en orden descendente si el valor es <i>True</i>."
   ]
  },
  {
   "cell_type": "code",
   "execution_count": 41,
   "metadata": {},
   "outputs": [
    {
     "data": {
      "text/plain": [
       "[7.8, 6, 5, 4, 3, 2.2, 1]"
      ]
     },
     "execution_count": 41,
     "metadata": {},
     "output_type": "execute_result"
    }
   ],
   "source": [
    "sorted(lista_num, reverse=True)"
   ]
  },
  {
   "cell_type": "code",
   "execution_count": 42,
   "metadata": {},
   "outputs": [
    {
     "name": "stdout",
     "output_type": "stream",
     "text": [
      "original   : ['Kernighan', 'Ritchie', 'Thompson', 'Stroustrup']\n",
      "ascendente : ['Kernighan', 'Ritchie', 'Stroustrup', 'Thompson']\n",
      "descendente: ['Thompson', 'Stroustrup', 'Ritchie', 'Kernighan']\n",
      "\n"
     ]
    }
   ],
   "source": [
    "print(\"original   : {}\\n\"\n",
    "      \"ascendente : {}\\n\"\n",
    "      \"descendente: {}\\n\"\n",
    "      .format(autores, sorted(autores), sorted(autores, reverse=True))\n",
    "     )"
   ]
  },
  {
   "cell_type": "markdown",
   "metadata": {},
   "source": [
    "La función <i>sorted()</i> también soporta el argumento **key**, con el mismo efecto mostrado anteriormente en las funciones <i>min()</i> y <i>max()</i>."
   ]
  },
  {
   "cell_type": "code",
   "execution_count": 43,
   "metadata": {},
   "outputs": [
    {
     "name": "stdout",
     "output_type": "stream",
     "text": [
      "[False, 0.1, 1, True, 2.7, 4, '10', '12.1', 42]\n",
      "[0.1, 1, '10', '12.1', 2.7, 4, 42, False, True]\n"
     ]
    }
   ],
   "source": [
    "lista_mixta = [1, True, 4, False, 0.1, \"10\", 2.7, 42, \"12.1\"]\n",
    "\n",
    "s_lista_mixta_float = sorted(lista_mixta, key=float)\n",
    "s_lista_mixta_str = sorted(lista_mixta, key=str)\n",
    "\n",
    "print(s_lista_mixta_float)\n",
    "print(s_lista_mixta_str)"
   ]
  },
  {
   "cell_type": "markdown",
   "metadata": {},
   "source": [
    "### Listas anidadas<a name=\"listas_anidadas\"></a> \n",
    "[Volver al índice](#indice)"
   ]
  },
  {
   "cell_type": "markdown",
   "metadata": {},
   "source": [
    "Una lista puede contener otras listas como elemento. A estas listas se las denomina <i>anidadas</i> (nested), y las listas dentro de listas se llaman sublistas. Es importante familiarizarse con la indexación para poder manipularlas correctamente."
   ]
  },
  {
   "cell_type": "code",
   "execution_count": 44,
   "metadata": {},
   "outputs": [
    {
     "name": "stdout",
     "output_type": "stream",
     "text": [
      "3\n",
      "['Kernighan', 'Ritchie', 'Thompson'] <class 'list'>\n",
      "Stroustrup <class 'str'>\n",
      "Gosling <class 'str'>\n"
     ]
    }
   ],
   "source": [
    "autores = [[\"Kernighan\", \"Ritchie\", \"Thompson\"], \"Stroustrup\", \"Gosling\"]\n",
    "\n",
    "print(len(autores))\n",
    "print(autores[0], type(autores[0]))\n",
    "print(autores[1], type(autores[1]))\n",
    "print(autores[2], type(autores[2]))"
   ]
  },
  {
   "cell_type": "markdown",
   "metadata": {},
   "source": [
    "Podemos acceder individualmente a los autores del primer elemento de autores encadenando el operador de indexación."
   ]
  },
  {
   "cell_type": "code",
   "execution_count": 45,
   "metadata": {},
   "outputs": [
    {
     "name": "stdout",
     "output_type": "stream",
     "text": [
      "Kernighan\n",
      "Ritchie\n",
      "Thompson\n"
     ]
    }
   ],
   "source": [
    "print(autores[0][0])\n",
    "print(autores[0][1])\n",
    "print(autores[0][2])"
   ]
  },
  {
   "cell_type": "markdown",
   "metadata": {},
   "source": [
    "Las listas pueden contener varios niveles de anidación:"
   ]
  },
  {
   "cell_type": "code",
   "execution_count": 46,
   "metadata": {},
   "outputs": [],
   "source": [
    "x = ['0', ['11', [222, 333], [444], '55'], '6', [[777, 888]]]"
   ]
  },
  {
   "cell_type": "code",
   "execution_count": 47,
   "metadata": {},
   "outputs": [
    {
     "name": "stdout",
     "output_type": "stream",
     "text": [
      "4\n",
      "0\n",
      "['11', [222, 333], [444], '55']\n",
      "6\n",
      "[[777, 888]]\n"
     ]
    }
   ],
   "source": [
    "print(len(x))\n",
    "print(x[0])\n",
    "print(x[1])\n",
    "print(x[2])\n",
    "print(x[3])"
   ]
  },
  {
   "cell_type": "code",
   "execution_count": 48,
   "metadata": {},
   "outputs": [
    {
     "name": "stdout",
     "output_type": "stream",
     "text": [
      "4\n",
      "11 [222, 333] [444]\n",
      "1\n",
      "[[777, 888]] [777, 888] 777 888\n"
     ]
    }
   ],
   "source": [
    "print(len(x[1]))\n",
    "print(x[1][0], x[1][1], x[1][2])\n",
    "\n",
    "print(len(x[3]))\n",
    "print(x[3], x[3][0], x[3][0][0], x[3][0][1])"
   ]
  },
  {
   "cell_type": "markdown",
   "metadata": {},
   "source": [
    "### Listas: dinámicas y mutables<a name=\"listas_dinamicas_mutables\"></a> \n",
    "[Volver al índice](#indice)"
   ]
  },
  {
   "cell_type": "markdown",
   "metadata": {},
   "source": [
    "Las listas pueden agregar, cambiar y eliminar elementos; estas propiedades hacen que las listas sean objetos mutables.\n",
    "\n",
    "---\n",
    "&#x26a0;&#xfe0f; En la siguiente clase veremos otras estructuras de datos que son inmutables.\n",
    "\n",
    "---"
   ]
  },
  {
   "cell_type": "markdown",
   "metadata": {},
   "source": [
    "Podemos modificar un elemento de la lista con indexación y asignación de un nuevo valor."
   ]
  },
  {
   "cell_type": "code",
   "execution_count": 49,
   "metadata": {},
   "outputs": [
    {
     "name": "stdout",
     "output_type": "stream",
     "text": [
      "['a', 'b', 0, 1, 'e']\n",
      "['a', 'b', 'c', 1, 'e']\n"
     ]
    }
   ],
   "source": [
    "x = [\"a\", \"b\", 0, 1, \"e\"]\n",
    "\n",
    "print(x)\n",
    "x[2] = \"c\"\n",
    "print(x)"
   ]
  },
  {
   "cell_type": "markdown",
   "metadata": {},
   "source": [
    "También podemos eliminar el elemento en una posición dada empleando el comando **del**:"
   ]
  },
  {
   "cell_type": "code",
   "execution_count": 50,
   "metadata": {},
   "outputs": [
    {
     "data": {
      "text/plain": [
       "['a', 'b', 'c', 'e']"
      ]
     },
     "execution_count": 50,
     "metadata": {},
     "output_type": "execute_result"
    }
   ],
   "source": [
    "del x[3]\n",
    "x"
   ]
  },
  {
   "cell_type": "markdown",
   "metadata": {},
   "source": [
    "Es posible reemplazar más de un elemento a la vez, por ejemplo:"
   ]
  },
  {
   "cell_type": "code",
   "execution_count": 51,
   "metadata": {},
   "outputs": [
    {
     "data": {
      "text/plain": [
       "['a', 1, 2, 'e']"
      ]
     },
     "execution_count": 51,
     "metadata": {},
     "output_type": "execute_result"
    }
   ],
   "source": [
    "x[1:3] = [1, 2]\n",
    "x"
   ]
  },
  {
   "cell_type": "markdown",
   "metadata": {},
   "source": [
    "E incluso reemplazar un elemento por otro de diferente tipo, por ejemplo una lista:"
   ]
  },
  {
   "cell_type": "code",
   "execution_count": 52,
   "metadata": {},
   "outputs": [
    {
     "data": {
      "text/plain": [
       "[[1, 2, 3], 1, 2, 'e']"
      ]
     },
     "execution_count": 52,
     "metadata": {},
     "output_type": "execute_result"
    }
   ],
   "source": [
    "x[0] = [1, 2, 3]\n",
    "x"
   ]
  },
  {
   "cell_type": "markdown",
   "metadata": {},
   "source": [
    "Utilizando cortes se puede eliminar un conjunto de elementos de una lista:"
   ]
  },
  {
   "cell_type": "code",
   "execution_count": 53,
   "metadata": {},
   "outputs": [
    {
     "data": {
      "text/plain": [
       "[2, 'e']"
      ]
     },
     "execution_count": 53,
     "metadata": {},
     "output_type": "execute_result"
    }
   ],
   "source": [
    "del x[:2]\n",
    "x"
   ]
  },
  {
   "cell_type": "markdown",
   "metadata": {},
   "source": [
    "Por último, se pueden agregar nuevos elementos a la lista utilizando concatenación o el operador unario suma."
   ]
  },
  {
   "cell_type": "code",
   "execution_count": 54,
   "metadata": {},
   "outputs": [
    {
     "name": "stdout",
     "output_type": "stream",
     "text": [
      "[2, 'e', 3, 'f']\n",
      "[2, 'e', 3, 'f', 4, 'g']\n"
     ]
    }
   ],
   "source": [
    "x = x + [3, 'f']\n",
    "print(x)\n",
    "\n",
    "x += [4, 'g']\n",
    "print(x)"
   ]
  },
  {
   "cell_type": "markdown",
   "metadata": {},
   "source": [
    "### Listas: métodos<a name=\"listas_metodos\"></a> \n",
    "[Volver al índice](#indice)"
   ]
  },
  {
   "cell_type": "markdown",
   "metadata": {},
   "source": [
    "En esta sección se presentan los métodos más empleados en listas:\n",
    "\n",
    "* <i>.append()</i>: agregar un nuevo elemento al final de la lista.\n",
    "* <i>.extend()</i>: extender la lista con los elementos de otra lista.\n",
    "* <i>.insert()</i>: inserta un nuevo elemento en la posición dada.\n",
    "* <i>.pop()</i>: elimina el elemento en la posición dada y lo devuelve.\n",
    "* <i>.remove()</i>: elimina la primera coincidencia.\n",
    "* <i>.clear()</i>: elimina todos los elementos de la lista.\n",
    "* <i>.copy()</i>: devuelve una copia de la lista.\n",
    "* <i>.count()</i>: devuelve el número de ocurrencias de una valor en la lista.\n",
    "* <i>.reverse()</i>: invierte los elementos de la lista.\n",
    "* <i>.sort()</i>: ordena los elementos de la lista.\n",
    "    \n",
    "---\n",
    "&#x26a0;&#xfe0f; Los métodos <i>.insert()</i> y <i>.pop()</i> son los métodos básicos en las estructuras de datos pila (stack - LIFO) y cola (queue - FIFO). Enlaces para saber más:\n",
    "\n",
    "* https://docs.python.org/3.9/tutorial/datastructures.html#using-lists-as-stacks\n",
    "* https://en.wikipedia.org/wiki/Stack_(abstract_data_type)\n",
    "* https://docs.python.org/3.9/tutorial/datastructures.html#using-lists-as-queues\n",
    "* https://en.wikipedia.org/wiki/Queue_(abstract_data_type)\n",
    "\n",
    "---"
   ]
  },
  {
   "cell_type": "markdown",
   "metadata": {},
   "source": [
    "#### Método <i>.append()</i>"
   ]
  },
  {
   "cell_type": "code",
   "execution_count": 55,
   "metadata": {},
   "outputs": [
    {
     "name": "stdout",
     "output_type": "stream",
     "text": [
      "[1]\n",
      "[1, 2]\n"
     ]
    }
   ],
   "source": [
    "a = []\n",
    "a.append(1)\n",
    "print(a)\n",
    "a.append(2)\n",
    "print(a)"
   ]
  },
  {
   "cell_type": "code",
   "execution_count": 56,
   "metadata": {},
   "outputs": [
    {
     "name": "stdout",
     "output_type": "stream",
     "text": [
      "[1, 2, 'a']\n",
      "[1, 2, 'a', [3, 4]]\n"
     ]
    }
   ],
   "source": [
    "a.append(\"a\")\n",
    "print(a)\n",
    "a.append([3, 4])\n",
    "print(a)"
   ]
  },
  {
   "cell_type": "markdown",
   "metadata": {},
   "source": [
    "#### Método <i>.extend()</i>"
   ]
  },
  {
   "cell_type": "code",
   "execution_count": 57,
   "metadata": {},
   "outputs": [
    {
     "name": "stdout",
     "output_type": "stream",
     "text": [
      "[1, 2, 3, 4, 5, 6]\n"
     ]
    }
   ],
   "source": [
    "a = [1, 2, 3]\n",
    "a.extend([4, 5, 6])\n",
    "print(a)"
   ]
  },
  {
   "cell_type": "code",
   "execution_count": 58,
   "metadata": {},
   "outputs": [
    {
     "name": "stdout",
     "output_type": "stream",
     "text": [
      "[1, 2, 3, 4, 5, 6]\n"
     ]
    }
   ],
   "source": [
    "a = [1, 2, 3]\n",
    "a += [4, 5, 6]\n",
    "print(a)"
   ]
  },
  {
   "cell_type": "markdown",
   "metadata": {},
   "source": [
    "#### Método <i>.insert()</i>"
   ]
  },
  {
   "cell_type": "code",
   "execution_count": 59,
   "metadata": {},
   "outputs": [
    {
     "data": {
      "text/plain": [
       "['a', 'b', 'c', 'e']"
      ]
     },
     "execution_count": 59,
     "metadata": {},
     "output_type": "execute_result"
    }
   ],
   "source": [
    "letras = [\"b\", \"c\", \"e\"]\n",
    "letras.insert(0, \"a\")\n",
    "letras"
   ]
  },
  {
   "cell_type": "code",
   "execution_count": 60,
   "metadata": {},
   "outputs": [
    {
     "data": {
      "text/plain": [
       "['a', 'b', 'c', 'd', 'e']"
      ]
     },
     "execution_count": 60,
     "metadata": {},
     "output_type": "execute_result"
    }
   ],
   "source": [
    "letras.insert(3, \"d\")\n",
    "letras"
   ]
  },
  {
   "cell_type": "markdown",
   "metadata": {},
   "source": [
    "#### Método <i>.pop()</i>"
   ]
  },
  {
   "cell_type": "code",
   "execution_count": 61,
   "metadata": {},
   "outputs": [
    {
     "data": {
      "text/plain": [
       "['a', 'b', 'c', 'd']"
      ]
     },
     "execution_count": 61,
     "metadata": {},
     "output_type": "execute_result"
    }
   ],
   "source": [
    "letras.pop()\n",
    "letras"
   ]
  },
  {
   "cell_type": "code",
   "execution_count": 62,
   "metadata": {},
   "outputs": [
    {
     "data": {
      "text/plain": [
       "['a', 'c', 'd']"
      ]
     },
     "execution_count": 62,
     "metadata": {},
     "output_type": "execute_result"
    }
   ],
   "source": [
    "letras.pop(1)\n",
    "letras"
   ]
  },
  {
   "cell_type": "markdown",
   "metadata": {},
   "source": [
    "#### Métodos <i>.remove()</i> y <i>.clear()</i>"
   ]
  },
  {
   "cell_type": "code",
   "execution_count": 63,
   "metadata": {},
   "outputs": [
    {
     "data": {
      "text/plain": [
       "['b', 'c']"
      ]
     },
     "execution_count": 63,
     "metadata": {},
     "output_type": "execute_result"
    }
   ],
   "source": [
    "letras = [\"a\", \"b\", \"c\"]\n",
    "letras.remove(\"a\")\n",
    "letras"
   ]
  },
  {
   "cell_type": "code",
   "execution_count": 64,
   "metadata": {},
   "outputs": [
    {
     "ename": "ValueError",
     "evalue": "list.remove(x): x not in list",
     "output_type": "error",
     "traceback": [
      "\u001b[0;31m---------------------------------------------------------------------------\u001b[0m",
      "\u001b[0;31mValueError\u001b[0m                                Traceback (most recent call last)",
      "\u001b[0;32m<ipython-input-64-e2568e694802>\u001b[0m in \u001b[0;36m<module>\u001b[0;34m\u001b[0m\n\u001b[1;32m      1\u001b[0m \u001b[0mletras\u001b[0m \u001b[0;34m=\u001b[0m \u001b[0;34m[\u001b[0m\u001b[0;34m\"a\"\u001b[0m\u001b[0;34m,\u001b[0m \u001b[0;34m\"b\"\u001b[0m\u001b[0;34m,\u001b[0m \u001b[0;34m\"c\"\u001b[0m\u001b[0;34m,\u001b[0m \u001b[0;34m\"a\"\u001b[0m\u001b[0;34m]\u001b[0m\u001b[0;34m\u001b[0m\u001b[0;34m\u001b[0m\u001b[0m\n\u001b[0;32m----> 2\u001b[0;31m \u001b[0mletras\u001b[0m\u001b[0;34m.\u001b[0m\u001b[0mremove\u001b[0m\u001b[0;34m(\u001b[0m\u001b[0;34m\"d\"\u001b[0m\u001b[0;34m)\u001b[0m\u001b[0;34m\u001b[0m\u001b[0;34m\u001b[0m\u001b[0m\n\u001b[0m",
      "\u001b[0;31mValueError\u001b[0m: list.remove(x): x not in list"
     ]
    }
   ],
   "source": [
    "letras = [\"a\", \"b\", \"c\", \"a\"]\n",
    "letras.remove(\"d\")"
   ]
  },
  {
   "cell_type": "code",
   "execution_count": 65,
   "metadata": {},
   "outputs": [
    {
     "name": "stdout",
     "output_type": "stream",
     "text": [
      "d no está en la lista letras: ['a', 'b', 'c', 'a']\n"
     ]
    }
   ],
   "source": [
    "if \"d\" in letras:\n",
    "    letras.remove(\"d\")\n",
    "else:\n",
    "    print(f\"d no está en la lista letras: {letras}\")"
   ]
  },
  {
   "cell_type": "code",
   "execution_count": 66,
   "metadata": {},
   "outputs": [
    {
     "data": {
      "text/plain": [
       "['b', 'c', 'a']"
      ]
     },
     "execution_count": 66,
     "metadata": {},
     "output_type": "execute_result"
    }
   ],
   "source": [
    "letras.remove(\"a\")\n",
    "letras"
   ]
  },
  {
   "cell_type": "code",
   "execution_count": 67,
   "metadata": {},
   "outputs": [
    {
     "data": {
      "text/plain": [
       "[]"
      ]
     },
     "execution_count": 67,
     "metadata": {},
     "output_type": "execute_result"
    }
   ],
   "source": [
    "letras.clear()\n",
    "letras"
   ]
  },
  {
   "cell_type": "markdown",
   "metadata": {},
   "source": [
    "#### Método <i>.copy()</i>"
   ]
  },
  {
   "cell_type": "code",
   "execution_count": 68,
   "metadata": {},
   "outputs": [
    {
     "name": "stdout",
     "output_type": "stream",
     "text": [
      "['a', 'b', 'c', 'a']\n",
      "['a', 'b', 'c', 'a']\n"
     ]
    }
   ],
   "source": [
    "lst = [\"a\", \"b\", \"c\", \"a\"]\n",
    "\n",
    "c_lst1 = lst.copy()\n",
    "c_lst2 = lst[:]\n",
    "\n",
    "print(c_lst1)\n",
    "print(c_lst2)"
   ]
  },
  {
   "cell_type": "markdown",
   "metadata": {},
   "source": [
    "#### Método <i>.count()</i>"
   ]
  },
  {
   "cell_type": "code",
   "execution_count": 69,
   "metadata": {},
   "outputs": [
    {
     "name": "stdout",
     "output_type": "stream",
     "text": [
      "3 2\n"
     ]
    }
   ],
   "source": [
    "lst = [1, 2, 3, 1, 1, 2]\n",
    "\n",
    "print(lst.count(1), lst.count(2))"
   ]
  },
  {
   "cell_type": "markdown",
   "metadata": {},
   "source": [
    "#### Método <i>.reverse()</i>"
   ]
  },
  {
   "cell_type": "code",
   "execution_count": 70,
   "metadata": {},
   "outputs": [
    {
     "name": "stdout",
     "output_type": "stream",
     "text": [
      "[121, 67, 4, 2, 1] [1, 2, 4, 67, 121]\n"
     ]
    }
   ],
   "source": [
    "lst1 = [1, 2, 4, 67, 121]\n",
    "lst2 = lst1.copy()\n",
    "\n",
    "lst1.reverse()\n",
    "print(lst1, lst2)"
   ]
  },
  {
   "cell_type": "code",
   "execution_count": 71,
   "metadata": {},
   "outputs": [
    {
     "data": {
      "text/plain": [
       "True"
      ]
     },
     "execution_count": 71,
     "metadata": {},
     "output_type": "execute_result"
    }
   ],
   "source": [
    "lst1 = lst2.copy()\n",
    "lst1.reverse()\n",
    "lst1 == lst2[::-1]"
   ]
  },
  {
   "cell_type": "code",
   "execution_count": 72,
   "metadata": {},
   "outputs": [
    {
     "data": {
      "text/plain": [
       "([121, 67, 4, 2, 1], [1, 2, 4, 67, 121])"
      ]
     },
     "execution_count": 72,
     "metadata": {},
     "output_type": "execute_result"
    }
   ],
   "source": [
    "lst1, lst2"
   ]
  },
  {
   "cell_type": "markdown",
   "metadata": {},
   "source": [
    "#### Método <i>.sort()</i>"
   ]
  },
  {
   "cell_type": "code",
   "execution_count": 73,
   "metadata": {},
   "outputs": [
    {
     "name": "stdout",
     "output_type": "stream",
     "text": [
      "[2, 4, 5, 67, 121] [5, 2, 4, 67, 121]\n"
     ]
    }
   ],
   "source": [
    "lst1 = [5, 2, 4, 67, 121]\n",
    "lst2 = lst1.copy()\n",
    "\n",
    "lst1.sort()\n",
    "print(lst1, lst2)"
   ]
  },
  {
   "cell_type": "code",
   "execution_count": 74,
   "metadata": {},
   "outputs": [
    {
     "data": {
      "text/plain": [
       "True"
      ]
     },
     "execution_count": 74,
     "metadata": {},
     "output_type": "execute_result"
    }
   ],
   "source": [
    "lst1 = lst2.copy()\n",
    "lst1.sort(reverse=True)\n",
    "lst1 == sorted(lst2, reverse=True)"
   ]
  },
  {
   "cell_type": "markdown",
   "metadata": {},
   "source": [
    "### Listas y cadenas de caracteres<a name=\"listas_cadenas\"></a> \n",
    "[Volver al índice](#indice)"
   ]
  },
  {
   "cell_type": "markdown",
   "metadata": {},
   "source": [
    "Una cadena de caracteres es una sucesión de caracteres consecutivos, y por lo tanto su comportamiento en muchos aspectos es análogo al de la lista. En la siguiente sección, veremos como muchas de las funciones y propiedas de las listas previamente introducidas, son aplicables a cadenas de caracteres."
   ]
  },
  {
   "cell_type": "markdown",
   "metadata": {},
   "source": [
    "#### Indexación y slicing"
   ]
  },
  {
   "cell_type": "markdown",
   "metadata": {},
   "source": [
    "Podemos acceder a un elemento (caracter) de una cadena:"
   ]
  },
  {
   "cell_type": "code",
   "execution_count": 75,
   "metadata": {},
   "outputs": [
    {
     "name": "stdout",
     "output_type": "stream",
     "text": [
      "¡ !\n"
     ]
    }
   ],
   "source": [
    "saludo = \"¡Hola!\"\n",
    "\n",
    "init_char = saludo[0]\n",
    "last_char = saludo[-1]\n",
    "\n",
    "print(init_char, last_char)"
   ]
  },
  {
   "cell_type": "markdown",
   "metadata": {},
   "source": [
    "También podemos extraer una subcadena:"
   ]
  },
  {
   "cell_type": "code",
   "execution_count": 76,
   "metadata": {},
   "outputs": [
    {
     "name": "stdout",
     "output_type": "stream",
     "text": [
      "¡Ho\n",
      "oa\n"
     ]
    }
   ],
   "source": [
    "print(saludo[:3])\n",
    "print(saludo[-4::2])"
   ]
  },
  {
   "cell_type": "markdown",
   "metadata": {},
   "source": [
    "A diferencia de las listas, el método <i>.reverse()</i> no está disponible. Las listas son mitables, pero las cadenas de caracteres son inmutables. Esto quiere decir que un método o función no puede modificar la cadena."
   ]
  },
  {
   "cell_type": "code",
   "execution_count": 77,
   "metadata": {},
   "outputs": [
    {
     "name": "stdout",
     "output_type": "stream",
     "text": [
      "!aloH¡\n"
     ]
    },
    {
     "ename": "AttributeError",
     "evalue": "'str' object has no attribute 'reverse'",
     "output_type": "error",
     "traceback": [
      "\u001b[0;31m---------------------------------------------------------------------------\u001b[0m",
      "\u001b[0;31mAttributeError\u001b[0m                            Traceback (most recent call last)",
      "\u001b[0;32m<ipython-input-77-0840068581bb>\u001b[0m in \u001b[0;36m<module>\u001b[0;34m\u001b[0m\n\u001b[1;32m      1\u001b[0m \u001b[0mprint\u001b[0m\u001b[0;34m(\u001b[0m\u001b[0msaludo\u001b[0m\u001b[0;34m[\u001b[0m\u001b[0;34m:\u001b[0m\u001b[0;34m:\u001b[0m\u001b[0;34m-\u001b[0m\u001b[0;36m1\u001b[0m\u001b[0;34m]\u001b[0m\u001b[0;34m)\u001b[0m\u001b[0;34m\u001b[0m\u001b[0;34m\u001b[0m\u001b[0m\n\u001b[0;32m----> 2\u001b[0;31m \u001b[0mprint\u001b[0m\u001b[0;34m(\u001b[0m\u001b[0msaludo\u001b[0m\u001b[0;34m.\u001b[0m\u001b[0mreverse\u001b[0m\u001b[0;34m(\u001b[0m\u001b[0;34m)\u001b[0m\u001b[0;34m)\u001b[0m\u001b[0;34m\u001b[0m\u001b[0;34m\u001b[0m\u001b[0m\n\u001b[0m",
      "\u001b[0;31mAttributeError\u001b[0m: 'str' object has no attribute 'reverse'"
     ]
    }
   ],
   "source": [
    "print(saludo[::-1])\n",
    "print(saludo.reverse())"
   ]
  },
  {
   "cell_type": "markdown",
   "metadata": {},
   "source": [
    "Algo similar sucede con el método <i>.sort()</i>:"
   ]
  },
  {
   "cell_type": "code",
   "execution_count": 78,
   "metadata": {},
   "outputs": [
    {
     "name": "stdout",
     "output_type": "stream",
     "text": [
      "['!', 'H', 'a', 'l', 'o', '¡']\n"
     ]
    },
    {
     "ename": "AttributeError",
     "evalue": "'str' object has no attribute 'sort'",
     "output_type": "error",
     "traceback": [
      "\u001b[0;31m---------------------------------------------------------------------------\u001b[0m",
      "\u001b[0;31mAttributeError\u001b[0m                            Traceback (most recent call last)",
      "\u001b[0;32m<ipython-input-78-2d8ad3299026>\u001b[0m in \u001b[0;36m<module>\u001b[0;34m\u001b[0m\n\u001b[1;32m      1\u001b[0m \u001b[0mprint\u001b[0m\u001b[0;34m(\u001b[0m\u001b[0msorted\u001b[0m\u001b[0;34m(\u001b[0m\u001b[0msaludo\u001b[0m\u001b[0;34m)\u001b[0m\u001b[0;34m)\u001b[0m\u001b[0;34m\u001b[0m\u001b[0;34m\u001b[0m\u001b[0m\n\u001b[0;32m----> 2\u001b[0;31m \u001b[0mprint\u001b[0m\u001b[0;34m(\u001b[0m\u001b[0msaludo\u001b[0m\u001b[0;34m.\u001b[0m\u001b[0msort\u001b[0m\u001b[0;34m(\u001b[0m\u001b[0;34m)\u001b[0m\u001b[0;34m)\u001b[0m\u001b[0;34m\u001b[0m\u001b[0;34m\u001b[0m\u001b[0m\n\u001b[0m",
      "\u001b[0;31mAttributeError\u001b[0m: 'str' object has no attribute 'sort'"
     ]
    }
   ],
   "source": [
    "print(sorted(saludo))\n",
    "print(saludo.sort())"
   ]
  },
  {
   "cell_type": "markdown",
   "metadata": {},
   "source": [
    "#### Detección, reemplazo y conteo de subcadenas de caracteres"
   ]
  },
  {
   "cell_type": "markdown",
   "metadata": {},
   "source": [
    "Las cadenas disponen de otros métodos interesantes:\n",
    "\n",
    "* <i>.find()</i>: devuelve la posición de la primera ocurrencia.\n",
    "* <i>.rfind()</i>: devuelve la posición de la última ocurrencia.\n",
    "* <i>.replace()</i>: devuelve una copia reemplazando una subcadena por otra cadena.\n",
    "\n",
    "Ver lista completa de métodos: https://docs.python.org/3/library/stdtypes.html#string-methods"
   ]
  },
  {
   "cell_type": "code",
   "execution_count": 79,
   "metadata": {},
   "outputs": [
    {
     "name": "stdout",
     "output_type": "stream",
     "text": [
      "Guido Van Rossum creó Python\n",
      "True\n"
     ]
    }
   ],
   "source": [
    "autor_1, lenguaje_1 = \"Guido Van Rossum\", \"Python\"\n",
    "autor_2, lenguaje_2 = \"Bjarne Stroustrup\", \"C++\"\n",
    "\n",
    "\n",
    "mensaje = f\"{autor_1} creó {lenguaje_1}\"\n",
    "\n",
    "print(mensaje)\n",
    "print(autor_1 in mensaje)  # operador de pertenencia igual que en listas."
   ]
  },
  {
   "cell_type": "code",
   "execution_count": 80,
   "metadata": {},
   "outputs": [
    {
     "name": "stdout",
     "output_type": "stream",
     "text": [
      "0 22\n",
      "Guido Van Rossum\n",
      "Python\n"
     ]
    }
   ],
   "source": [
    "pos_autor = mensaje.find(autor_1)\n",
    "pos_lenguaje = mensaje.find(lenguaje_1)\n",
    "print(pos_autor, pos_lenguaje)\n",
    "\n",
    "print(mensaje[pos_autor:pos_autor + len(autor_1)])\n",
    "print(mensaje[pos_lenguaje:pos_lenguaje + len(lenguaje_1)])"
   ]
  },
  {
   "cell_type": "code",
   "execution_count": 81,
   "metadata": {},
   "outputs": [
    {
     "name": "stdout",
     "output_type": "stream",
     "text": [
      "6\n",
      "32\n"
     ]
    }
   ],
   "source": [
    "librerias = \"pandas, numpy, scipy, matplotlib, sklearn\"\n",
    "\n",
    "print(librerias.find(\",\"))\n",
    "print(librerias.rfind(\",\"))"
   ]
  },
  {
   "cell_type": "code",
   "execution_count": 82,
   "metadata": {},
   "outputs": [
    {
     "data": {
      "text/plain": [
       "'Bjarne Stroustrup creó C++'"
      ]
     },
     "execution_count": 82,
     "metadata": {},
     "output_type": "execute_result"
    }
   ],
   "source": [
    "nuevo_mensaje = mensaje.replace(autor_1, autor_2)\n",
    "nuevo_mensaje.replace(lenguaje_1, lenguaje_2)"
   ]
  },
  {
   "cell_type": "code",
   "execution_count": 83,
   "metadata": {},
   "outputs": [
    {
     "data": {
      "text/plain": [
       "'Bjarne Stroustrup creó C++'"
      ]
     },
     "execution_count": 83,
     "metadata": {},
     "output_type": "execute_result"
    }
   ],
   "source": [
    "mensaje.replace(autor_1, autor_2).replace(lenguaje_1, lenguaje_2)"
   ]
  },
  {
   "cell_type": "markdown",
   "metadata": {},
   "source": [
    "Con el método <i>.count()</i> obtenemos el número de ocurrencias de una subcadena dentro de una cadena."
   ]
  },
  {
   "cell_type": "code",
   "execution_count": 84,
   "metadata": {},
   "outputs": [
    {
     "data": {
      "text/plain": [
       "2"
      ]
     },
     "execution_count": 84,
     "metadata": {},
     "output_type": "execute_result"
    }
   ],
   "source": [
    "librerias.count(\"py\")"
   ]
  },
  {
   "cell_type": "code",
   "execution_count": 85,
   "metadata": {
    "scrolled": true
   },
   "outputs": [
    {
     "data": {
      "text/plain": [
       "4"
      ]
     },
     "execution_count": 85,
     "metadata": {},
     "output_type": "execute_result"
    }
   ],
   "source": [
    "librerias.count(\",\")"
   ]
  },
  {
   "cell_type": "markdown",
   "metadata": {},
   "source": [
    "#### Conversión cadena de caracteres a lista y viceversa"
   ]
  },
  {
   "cell_type": "markdown",
   "metadata": {},
   "source": [
    "El método <i>.split()</i> permite separar el contenido de una cadena, dado un caracter separador, devolviendo una lista de subcadenas. Veamos algunos ejemplos:"
   ]
  },
  {
   "cell_type": "code",
   "execution_count": 86,
   "metadata": {},
   "outputs": [
    {
     "name": "stdout",
     "output_type": "stream",
     "text": [
      "<class 'list'> 5 ['Guido', 'Van', 'Rossum', 'creó', 'Python']\n"
     ]
    }
   ],
   "source": [
    "palabras = mensaje.split()\n",
    "print(type(palabras), len(palabras), palabras)"
   ]
  },
  {
   "cell_type": "code",
   "execution_count": 87,
   "metadata": {},
   "outputs": [
    {
     "name": "stdout",
     "output_type": "stream",
     "text": [
      "Nombre fichero: informacion_ventas. Extensión csv.\n"
     ]
    }
   ],
   "source": [
    "nombre_fichero = \"informacion_ventas.csv\"\n",
    "nombre, extension = nombre_fichero.split(\".\")\n",
    "print(f\"Nombre fichero: {nombre}. Extensión {extension}.\")"
   ]
  },
  {
   "cell_type": "code",
   "execution_count": 88,
   "metadata": {},
   "outputs": [
    {
     "name": "stdout",
     "output_type": "stream",
     "text": [
      "['19', '25', '33']\n"
     ]
    }
   ],
   "source": [
    "hora = '19:25:33'\n",
    "print(hora.split(':')) # utilizamos el caracter : como separador"
   ]
  },
  {
   "cell_type": "markdown",
   "metadata": {},
   "source": [
    "Por otro lado, el método <i>.join()</i> permite concatenar una lista de subcadenas para formar un cadena separada por un caracter separador. Realiza la operación inversa a <i>.split()</i>."
   ]
  },
  {
   "cell_type": "code",
   "execution_count": 89,
   "metadata": {},
   "outputs": [
    {
     "name": "stdout",
     "output_type": "stream",
     "text": [
      "Guido Van Rossum creó Python\n",
      "True\n"
     ]
    }
   ],
   "source": [
    "mensaje_join = ' '.join(palabras)\n",
    "print(mensaje_join)\n",
    "print(mensaje_join == mensaje)"
   ]
  },
  {
   "cell_type": "code",
   "execution_count": 90,
   "metadata": {},
   "outputs": [
    {
     "name": "stdout",
     "output_type": "stream",
     "text": [
      "Madrid -> Guadalajara -> Tafalla -> Navarra\n"
     ]
    }
   ],
   "source": [
    "ciudades = [\"Madrid\", \"Guadalajara\", \"Tafalla\", \"Navarra\"]\n",
    "itinerario = \" -> \".join(ciudades)\n",
    "print(itinerario)"
   ]
  },
  {
   "cell_type": "markdown",
   "metadata": {},
   "source": [
    "### Ejercicios<a name=\"ejercicios\"></a> \n",
    "[Volver al índice](#indice)"
   ]
  },
  {
   "cell_type": "markdown",
   "metadata": {},
   "source": [
    "1 - Tres son multitud\n",
    "- Haz una lista de nombres que incluya al menos cuatro personas.\n",
    "- Escribe una prueba if-else que imprima un mensaje sobre si la habitación está abarrotada, si hay más de tres personas en la lista. En caso contrario imprime otro mensaje sobre el estado de la habitación.\n",
    "- Modifica la lista para que solo haya dos personas en ella. \n",
    "- Ejecuta tu prueba if-else de nuevo.\n"
   ]
  },
  {
   "cell_type": "code",
   "execution_count": null,
   "metadata": {},
   "outputs": [],
   "source": []
  },
  {
   "cell_type": "markdown",
   "metadata": {},
   "source": [
    "2 - Diseña una estructura de control que imprima si un número es par o impar."
   ]
  },
  {
   "cell_type": "code",
   "execution_count": null,
   "metadata": {},
   "outputs": [],
   "source": []
  },
  {
   "cell_type": "markdown",
   "metadata": {},
   "source": [
    "3 - Escribe un programa que dada una cadena, cuente el número total de letras y el número de 'a' que contiene."
   ]
  },
  {
   "cell_type": "code",
   "execution_count": null,
   "metadata": {},
   "outputs": [],
   "source": []
  },
  {
   "cell_type": "markdown",
   "metadata": {},
   "source": [
    "4 - Escribe un programa que permita determinar si una cadena es palíndroma (se lee igual de izquierda a derecha que de derecha a izquierda). Por ejemplo, 'Sometamos o matemos' es una cadena palíndroma. Nota: ten en cuenta los espacios que pueda contener la cadena."
   ]
  },
  {
   "cell_type": "code",
   "execution_count": null,
   "metadata": {},
   "outputs": [],
   "source": []
  },
  {
   "cell_type": "markdown",
   "metadata": {},
   "source": [
    "5 -  Escribe un programa que detecte si existen vocales (mayúsculas y minúsculas) dentro de una cadena. Si existe, imprime el número de ocurrencias de cada vocal y reemplaza dicha vocal en la cadena con su número de ocurrencias. Ejemplo: \"aabbiii\" -> \"2bb3\"."
   ]
  },
  {
   "cell_type": "code",
   "execution_count": null,
   "metadata": {},
   "outputs": [],
   "source": []
  },
  {
   "cell_type": "markdown",
   "metadata": {},
   "source": [
    "6 - Cortes del alfabeto\n",
    "- Almacena las primeras diez letras del alfabeto en una lista.\n",
    "- Usa un _slice_ para imprimir las primeras tres letras del alfabeto.\n",
    "- Usa un _slice_ para imprimir tres letras del medio de la lista.\n",
    "- Usa un _slice_ para imprimir las letras desde el medio de la lista hasta el final."
   ]
  },
  {
   "cell_type": "code",
   "execution_count": null,
   "metadata": {},
   "outputs": [],
   "source": []
  },
  {
   "cell_type": "markdown",
   "metadata": {},
   "source": [
    "7 - Lista protegida\n",
    "- El objetivo en este ejercicio es demostrar que la copia de una lista protege la lista original.\n",
    "- Haz una lista con los nombres de tres personas.\n",
    "- Usa un _slice_ y <i>.copy()</i> para hacer una copia de la lista completa.\n",
    "- Agrega al menos dos nombres nuevos a la nueva copia de la lista.\n",
    "- Invierte la nueva copia de la lista.\n",
    "- Ordena de forma ascendente y descendente la nueva copia de la lista."
   ]
  },
  {
   "cell_type": "code",
   "execution_count": null,
   "metadata": {},
   "outputs": [],
   "source": []
  },
  {
   "cell_type": "markdown",
   "metadata": {},
   "source": [
    "8 - Escribe un programa que dada la siguiente lista cree dos listas diferentes con enteros y cadenas:"
   ]
  },
  {
   "cell_type": "code",
   "execution_count": null,
   "metadata": {},
   "outputs": [],
   "source": [
    "lst = [\"a\", 0, \"b\", 1, \"c\", 2]"
   ]
  },
  {
   "cell_type": "markdown",
   "metadata": {},
   "source": [
    "9 - Detecta en una frase si aparece una palabra en múltiples ocasiones, la posición de la primera ocurrencia y la última. Reemplaza esa palabra por otra."
   ]
  },
  {
   "cell_type": "code",
   "execution_count": null,
   "metadata": {},
   "outputs": [],
   "source": []
  },
  {
   "cell_type": "markdown",
   "metadata": {},
   "source": [
    "10 - Crea una lista con múltiples operaciones aritméticas como elementos. Calcula el mínimo, máximo y la suma de todos los elementos."
   ]
  },
  {
   "cell_type": "code",
   "execution_count": null,
   "metadata": {},
   "outputs": [],
   "source": []
  },
  {
   "cell_type": "markdown",
   "metadata": {},
   "source": [
    "11 - Extrae las 5 vocales en la siguiente lista anidada:"
   ]
  },
  {
   "cell_type": "code",
   "execution_count": null,
   "metadata": {},
   "outputs": [],
   "source": [
    "lst = [[\"a\", [1, 2, \"e\"]], \"i\", [1, 2, 4, [\"o\"], \"u\"]]"
   ]
  }
 ],
 "metadata": {
  "kernelspec": {
   "display_name": "Python 3",
   "language": "python",
   "name": "python3"
  },
  "language_info": {
   "codemirror_mode": {
    "name": "ipython",
    "version": 3
   },
   "file_extension": ".py",
   "mimetype": "text/x-python",
   "name": "python",
   "nbconvert_exporter": "python",
   "pygments_lexer": "ipython3",
   "version": "3.7.4"
  }
 },
 "nbformat": 4,
 "nbformat_minor": 2
}
