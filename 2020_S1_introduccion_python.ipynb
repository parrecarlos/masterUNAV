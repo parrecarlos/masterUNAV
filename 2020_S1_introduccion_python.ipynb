{
 "cells": [
  {
   "cell_type": "markdown",
   "metadata": {},
   "source": [
    "# Python para el análisis de datos -  UNAV 2020-2021\n",
    "---\n",
    "\n",
    "# Notebook 1: Tipos básicos, variables y operadores"
   ]
  },
  {
   "cell_type": "markdown",
   "metadata": {},
   "source": [
    "## Índice  <a name=\"indice\"></a> \n",
    "\n",
    "- [Introducción a Python](#introduccion)\n",
    "- [Básicos](#basicos)\n",
    "- [Tipos de datos básicos y variables](#tipos_datos_basicos_variables)\n",
    "- [Operadores aritméticos](#operadores_aritmeticos)\n",
    "- [Operadores relacionales](#operadores_relacionales)\n",
    "- [Operadores lógicos](#operadores_logicos)\n",
    "- [Precedencia de los operadores](#precedencia_operadores)\n",
    "- [Operaciones con cadenas de caracteres](#operaciones_cadenas)\n",
    "- [Función <i>print</i> y formatos de cadena de caracteres](#funcion_print_formatos)\n",
    "- [Ejercicios](#ejercicios)"
   ]
  },
  {
   "cell_type": "markdown",
   "metadata": {},
   "source": [
    "## Introducción a Python<a name=\"introduccion\"></a> \n",
    "[Volver al índice](#indice)"
   ]
  },
  {
   "cell_type": "markdown",
   "metadata": {},
   "source": [
    "Python es un lenguaje de programación de propósito general y alto nivel. Fue creado en 1991 por Guido Van Rossum. Python fue diseñado pensando en la simplicidad y legibilidad del código: https://www.python.org/dev/peps/pep-0020/"
   ]
  },
  {
   "cell_type": "markdown",
   "metadata": {},
   "source": [
    "<pre>Beautiful is better than ugly.\n",
    "Explicit is better than implicit.\n",
    "Simple is better than complex.\n",
    "Complex is better than complicated.\n",
    "Flat is better than nested.\n",
    "Sparse is better than dense.\n",
    "Readability counts.\n",
    "Special cases aren't special enough to break the rules.\n",
    "Although practicality beats purity.\n",
    "Errors should never pass silently.\n",
    "Unless explicitly silenced.\n",
    "In the face of ambiguity, refuse the temptation to guess.\n",
    "There should be one-- and preferably only one --obvious way to do it.\n",
    "Although that way may not be obvious at first unless you're Dutch.\n",
    "Now is better than never.\n",
    "Although never is often better than *right* now.\n",
    "If the implementation is hard to explain, it's a bad idea.\n",
    "If the implementation is easy to explain, it may be a good idea.\n",
    "Namespaces are one honking great idea -- let's do more of those!</pre>"
   ]
  },
  {
   "cell_type": "markdown",
   "metadata": {},
   "source": [
    "Python es un lenguaje de programación interpretado (no compilado) y, por lo tanto, requiere un intérprete.\n",
    "\n",
    "* Un lenguaje compilado puede ejecutar directamente en el procesador. El compilador traduce el código a lenguaje máquina (ensamblador).\n",
    "\n",
    "* En un lenguaje interpretado, la traducción de código a lenguaje máquina se realiza al mismo tiempo que se ejecuta el programa."
   ]
  },
  {
   "cell_type": "markdown",
   "metadata": {},
   "source": [
    "Enlaces de interés:\n",
    "\n",
    "- https://www.python.org/\n",
    "- https://stackoverflow.com/questions/6889747/is-python-interpreted-or-compiled-or-both\n",
    "- https://pypi.org/"
   ]
  },
  {
   "cell_type": "markdown",
   "metadata": {},
   "source": [
    "## Básicos <a name=\"basicos\"></a>\n",
    "[Volver a índice](#indice)"
   ]
  },
  {
   "cell_type": "markdown",
   "metadata": {},
   "source": [
    "En esta sección introducimos dos conceptos básicos: la función <i>print()</i> y el uso de comentarios en el código Python."
   ]
  },
  {
   "cell_type": "markdown",
   "metadata": {},
   "source": [
    "#### Función <i>print</i>"
   ]
  },
  {
   "cell_type": "markdown",
   "metadata": {},
   "source": [
    "La función <i>print()</i> nos permite mostrar resultados por pantalla."
   ]
  },
  {
   "cell_type": "code",
   "execution_count": 1,
   "metadata": {},
   "outputs": [
    {
     "name": "stdout",
     "output_type": "stream",
     "text": [
      "Hola\n"
     ]
    }
   ],
   "source": [
    "print(\"Hola\")"
   ]
  },
  {
   "cell_type": "markdown",
   "metadata": {},
   "source": [
    "Al ejecutar una celda, se imprime la representación del último elemento que contiene. Por ejemplo, en la siguiente celda se imprime la palabra \"Hola\"."
   ]
  },
  {
   "cell_type": "code",
   "execution_count": 2,
   "metadata": {},
   "outputs": [
    {
     "data": {
      "text/plain": [
       "'Hola'"
      ]
     },
     "execution_count": 2,
     "metadata": {},
     "output_type": "execute_result"
    }
   ],
   "source": [
    "\"Hola\""
   ]
  },
  {
   "cell_type": "markdown",
   "metadata": {},
   "source": [
    "En el caso que una celda contenga más de una expresión, sólo la última se imprimirá por pantalla."
   ]
  },
  {
   "cell_type": "code",
   "execution_count": 3,
   "metadata": {},
   "outputs": [
    {
     "data": {
      "text/plain": [
       "'Sí se imprime'"
      ]
     },
     "execution_count": 3,
     "metadata": {},
     "output_type": "execute_result"
    }
   ],
   "source": [
    "\"No se imprime\"\n",
    "\"Sí se imprime\""
   ]
  },
  {
   "cell_type": "markdown",
   "metadata": {},
   "source": [
    "Pero si empleamos la función <i>print</i> ambas frases se imprimen."
   ]
  },
  {
   "cell_type": "code",
   "execution_count": 4,
   "metadata": {},
   "outputs": [
    {
     "name": "stdout",
     "output_type": "stream",
     "text": [
      "También se imprime\n",
      "Sí se imprime\n"
     ]
    }
   ],
   "source": [
    "print(\"También se imprime\")\n",
    "print(\"Sí se imprime\")"
   ]
  },
  {
   "cell_type": "markdown",
   "metadata": {},
   "source": [
    "En casos donde sólo queramos imprimir la última expresión, podemos ahorrar tiempo y no utilizar la función <i>print()</i>. Por último, podemos imprimir varios elementos con una misma llamada a la función:"
   ]
  },
  {
   "cell_type": "code",
   "execution_count": 5,
   "metadata": {},
   "outputs": [
    {
     "name": "stdout",
     "output_type": "stream",
     "text": [
      "Primer mensaje. Segundo mensaje. Tercer mensaje.\n"
     ]
    }
   ],
   "source": [
    "print(\"Primer mensaje.\", \"Segundo mensaje.\", \"Tercer mensaje.\")"
   ]
  },
  {
   "cell_type": "markdown",
   "metadata": {},
   "source": [
    "De forma similar:"
   ]
  },
  {
   "cell_type": "code",
   "execution_count": 6,
   "metadata": {},
   "outputs": [
    {
     "data": {
      "text/plain": [
       "('Primer mensaje.', 'Segundo mensaje.', 'Tercer mensaje.')"
      ]
     },
     "execution_count": 6,
     "metadata": {},
     "output_type": "execute_result"
    }
   ],
   "source": [
    "\"Primer mensaje.\", \"Segundo mensaje.\", \"Tercer mensaje.\""
   ]
  },
  {
   "cell_type": "markdown",
   "metadata": {},
   "source": [
    "#### Comentarios en el código"
   ]
  },
  {
   "cell_type": "markdown",
   "metadata": {},
   "source": [
    "Los comentarios son un elemento común de cualquier lenguaje de programación. En Python, al igual que en otros lenguajes, los comentarios son anotaciones que no son ejecutadas por el intérprete/compilador.\n",
    "\n",
    "Los comentarios en Python van precedidos por el símbolo *#* y pueden aparece encima o la derecha de una expresión (<i>inline</i>)."
   ]
  },
  {
   "cell_type": "code",
   "execution_count": 7,
   "metadata": {},
   "outputs": [
    {
     "name": "stdout",
     "output_type": "stream",
     "text": [
      "Hola 1\n",
      "Hola 2\n"
     ]
    }
   ],
   "source": [
    "# comentario 1\n",
    "print(\"Hola 1\")\n",
    "print(\"Hola 2\")  # comentario 2"
   ]
  },
  {
   "cell_type": "markdown",
   "metadata": {},
   "source": [
    "Algunos de los usos principales de los comentarios son:\n",
    "\n",
    "- Explicar qué operaciones realiza el código.\n",
    "- Explicar asunciones y el razonamiento detrás del código.\n",
    "- Facilitar la comprensión del código a futuros usuarios y/o desarrolladores (incluido tu mism@).\n",
    "\n",
    "Un comentario debe ser conciso, directo y explicativo. Es importante que los comentarios sean legibles y fáciles de entender."
   ]
  },
  {
   "cell_type": "code",
   "execution_count": 8,
   "metadata": {},
   "outputs": [
    {
     "name": "stdout",
     "output_type": "stream",
     "text": [
      "Hola\n"
     ]
    }
   ],
   "source": [
    "# Evita redundancia describiendo líneas que son auto-explicativas.\n",
    "# Por ejemplo: la siguiente línea imprime \"Hola\".\n",
    "print(\"Hola\")"
   ]
  },
  {
   "cell_type": "code",
   "execution_count": 9,
   "metadata": {},
   "outputs": [],
   "source": [
    "# También puedes separar un comentario largos\n",
    "# en diferentes líneas para facilitar la\n",
    "# lectura."
   ]
  },
  {
   "cell_type": "markdown",
   "metadata": {},
   "source": [
    "## Tipos de datos básicos y variables<a name=\"tipos_datos_basicos_variables\"></a> \n",
    "[Volver al índice](#indice)"
   ]
  },
  {
   "cell_type": "markdown",
   "metadata": {},
   "source": [
    "Python contiene varios tipos númericos, tipo cadena de caracteres y tipo booleano. Primero veremos los tres tipos numéricos: entero (int), real o punto flotante (float) y complejo (complex)."
   ]
  },
  {
   "cell_type": "markdown",
   "metadata": {},
   "source": [
    "### Tipo entero (int)"
   ]
  },
  {
   "cell_type": "markdown",
   "metadata": {},
   "source": [
    "Un número entero es cualquier número que pertenezca al conjunto de números naturales, sus negativos, y el cero. En Python un número entero es de tipo **int**. En esta sección introducimos las funciones <i>type()</i> y <i>isinstance()</i>.\n",
    "\n",
    "* La función <i>type()</i> devuelve el tipo de clase del argumento que se pasa como parámetro. \n",
    "* La función <i>isinstance()</i> comprueba si la clase del argumento es del tipo que se indica.\n",
    "---\n",
    "&#x26a0;&#xfe0f; La definición de función y parámetro serán presentadas en detalle en sesiones posteriores.\n",
    "\n",
    "---"
   ]
  },
  {
   "cell_type": "code",
   "execution_count": 10,
   "metadata": {},
   "outputs": [
    {
     "name": "stdout",
     "output_type": "stream",
     "text": [
      "<class 'int'>\n"
     ]
    }
   ],
   "source": [
    "print(type(42))"
   ]
  },
  {
   "cell_type": "code",
   "execution_count": 11,
   "metadata": {},
   "outputs": [
    {
     "name": "stdout",
     "output_type": "stream",
     "text": [
      "<class 'int'>\n",
      "<class 'int'>\n"
     ]
    }
   ],
   "source": [
    "print(type(0))\n",
    "print(type(-999))"
   ]
  },
  {
   "cell_type": "code",
   "execution_count": 12,
   "metadata": {},
   "outputs": [
    {
     "data": {
      "text/plain": [
       "True"
      ]
     },
     "execution_count": 12,
     "metadata": {},
     "output_type": "execute_result"
    }
   ],
   "source": [
    "isinstance(5, int)"
   ]
  },
  {
   "cell_type": "markdown",
   "metadata": {},
   "source": [
    "El tamaño de un entero en Python está sólo limitado por la cantidad de memoria disponible."
   ]
  },
  {
   "cell_type": "code",
   "execution_count": 13,
   "metadata": {},
   "outputs": [
    {
     "name": "stdout",
     "output_type": "stream",
     "text": [
      "10012102120120111212131232341341341341341341341234123412341\n"
     ]
    }
   ],
   "source": [
    "print(10012102120120111212131232341341341341341341341234123412341)"
   ]
  },
  {
   "cell_type": "markdown",
   "metadata": {},
   "source": [
    "El constructor <i>int()</i> nos permite crear números enteros."
   ]
  },
  {
   "cell_type": "code",
   "execution_count": 14,
   "metadata": {},
   "outputs": [
    {
     "name": "stdout",
     "output_type": "stream",
     "text": [
      "<class 'int'>\n",
      "<class 'int'>\n"
     ]
    }
   ],
   "source": [
    "print(type(int(\"2\")))\n",
    "print(type(int(2.0)))"
   ]
  },
  {
   "cell_type": "markdown",
   "metadata": {},
   "source": [
    "### Tipo real o punto flotante (float)"
   ]
  },
  {
   "cell_type": "markdown",
   "metadata": {},
   "source": [
    "Un número real o de punto flotante es un número decimal con precisión limitada. En Python un número real es de tipo **float**. \n",
    "\n",
    "Enlaces de interés:\n",
    "* https://en.wikipedia.org/wiki/Floating-point_arithmetic\n",
    "* https://docs.python.org/3/tutorial/floatingpoint.html"
   ]
  },
  {
   "cell_type": "code",
   "execution_count": 15,
   "metadata": {},
   "outputs": [
    {
     "name": "stdout",
     "output_type": "stream",
     "text": [
      "<class 'float'>\n"
     ]
    }
   ],
   "source": [
    "print(type(21.2))"
   ]
  },
  {
   "cell_type": "code",
   "execution_count": 16,
   "metadata": {},
   "outputs": [
    {
     "name": "stdout",
     "output_type": "stream",
     "text": [
      "<class 'float'>\n",
      "<class 'float'>\n"
     ]
    }
   ],
   "source": [
    "print(type(-1.1))\n",
    "print(type(0.0))"
   ]
  },
  {
   "cell_type": "code",
   "execution_count": 17,
   "metadata": {},
   "outputs": [
    {
     "data": {
      "text/plain": [
       "False"
      ]
     },
     "execution_count": 17,
     "metadata": {},
     "output_type": "execute_result"
    }
   ],
   "source": [
    "isinstance(5.0, int)"
   ]
  },
  {
   "cell_type": "code",
   "execution_count": 18,
   "metadata": {},
   "outputs": [
    {
     "data": {
      "text/plain": [
       "True"
      ]
     },
     "execution_count": 18,
     "metadata": {},
     "output_type": "execute_result"
    }
   ],
   "source": [
    "isinstance(5.0, float)"
   ]
  },
  {
   "cell_type": "markdown",
   "metadata": {},
   "source": [
    "El constructor <i>float()</i> nos permite crear números reales a partir de una cadena de caracteres o número entero."
   ]
  },
  {
   "cell_type": "code",
   "execution_count": 19,
   "metadata": {},
   "outputs": [
    {
     "name": "stdout",
     "output_type": "stream",
     "text": [
      "<class 'float'>\n",
      "<class 'float'>\n",
      "<class 'float'>\n"
     ]
    }
   ],
   "source": [
    "print(type(float(\"-12.3\")))\n",
    "print(type(float(\"Infinity\")))\n",
    "print(type(float(2)))"
   ]
  },
  {
   "cell_type": "markdown",
   "metadata": {},
   "source": [
    "#### Notación cientifica"
   ]
  },
  {
   "cell_type": "markdown",
   "metadata": {},
   "source": [
    "Los números de tipo punto flotante se pueden representar empleando notación científica. El siguiente ejemplo utiliza notation exponencial con base $10$: $0.1 \\cdot 10^{-3} = 0.1 \\cdot 0.001 = 0.0001$.\n",
    "\n",
    "Enlace de interés: https://en.wikipedia.org/wiki/Scientific_notation."
   ]
  },
  {
   "cell_type": "code",
   "execution_count": 20,
   "metadata": {},
   "outputs": [
    {
     "name": "stdout",
     "output_type": "stream",
     "text": [
      "0.0001\n"
     ]
    }
   ],
   "source": [
    "print(0.1e-3)"
   ]
  },
  {
   "cell_type": "code",
   "execution_count": 21,
   "metadata": {},
   "outputs": [
    {
     "name": "stdout",
     "output_type": "stream",
     "text": [
      "0.0001\n"
     ]
    }
   ],
   "source": [
    "print(float(\"1E-4\"))"
   ]
  },
  {
   "cell_type": "markdown",
   "metadata": {},
   "source": [
    "### Tipo complejo (complex)"
   ]
  },
  {
   "cell_type": "markdown",
   "metadata": {},
   "source": [
    "Un número complejo está formado por una parte real y una imaginaria, ambas partes de tipo **float**. En Python un número complejo es de tipo **complex**, y se especifica como \"parte real\"$\\pm$\"parte imaginaria\"$j$."
   ]
  },
  {
   "cell_type": "code",
   "execution_count": 22,
   "metadata": {},
   "outputs": [
    {
     "name": "stdout",
     "output_type": "stream",
     "text": [
      "<class 'complex'>\n"
     ]
    }
   ],
   "source": [
    "print(type(3+4j))"
   ]
  },
  {
   "cell_type": "markdown",
   "metadata": {},
   "source": [
    "Podemos extraer la parte real e imaginaria de un número complejo."
   ]
  },
  {
   "cell_type": "code",
   "execution_count": 23,
   "metadata": {},
   "outputs": [
    {
     "data": {
      "text/plain": [
       "3.0"
      ]
     },
     "execution_count": 23,
     "metadata": {},
     "output_type": "execute_result"
    }
   ],
   "source": [
    "(3+4j).real"
   ]
  },
  {
   "cell_type": "code",
   "execution_count": 24,
   "metadata": {},
   "outputs": [
    {
     "data": {
      "text/plain": [
       "4.0"
      ]
     },
     "execution_count": 24,
     "metadata": {},
     "output_type": "execute_result"
    }
   ],
   "source": [
    "(3+4j).imag"
   ]
  },
  {
   "cell_type": "code",
   "execution_count": 25,
   "metadata": {},
   "outputs": [
    {
     "data": {
      "text/plain": [
       "True"
      ]
     },
     "execution_count": 25,
     "metadata": {},
     "output_type": "execute_result"
    }
   ],
   "source": [
    "isinstance(5.1+3j, complex)"
   ]
  },
  {
   "cell_type": "markdown",
   "metadata": {},
   "source": [
    "El constructor <i>complex()</i> nos permite generar un número complejo a partir dos números de punto flotante, representando la parte real e imaginaria."
   ]
  },
  {
   "cell_type": "code",
   "execution_count": 26,
   "metadata": {},
   "outputs": [
    {
     "data": {
      "text/plain": [
       "(2+3j)"
      ]
     },
     "execution_count": 26,
     "metadata": {},
     "output_type": "execute_result"
    }
   ],
   "source": [
    "complex(2.0, 3)"
   ]
  },
  {
   "cell_type": "markdown",
   "metadata": {},
   "source": [
    "### Tipo cadena de caracteres (str)"
   ]
  },
  {
   "cell_type": "markdown",
   "metadata": {},
   "source": [
    "El tipo cadena de caracteres o simplemente cadena o string, es una secuencia de caracteres. Las cadenas se delimitan empleando comillas simples o dobles. En Python una cadena de caracteres es de tipo **str**."
   ]
  },
  {
   "cell_type": "code",
   "execution_count": 27,
   "metadata": {},
   "outputs": [
    {
     "name": "stdout",
     "output_type": "stream",
     "text": [
      "<class 'str'>\n"
     ]
    }
   ],
   "source": [
    "print(type(\"hola\"))"
   ]
  },
  {
   "cell_type": "code",
   "execution_count": 28,
   "metadata": {},
   "outputs": [
    {
     "name": "stdout",
     "output_type": "stream",
     "text": [
      "<class 'str'>\n",
      "<class 'str'>\n"
     ]
    }
   ],
   "source": [
    "print(type('a'))\n",
    "print(type(\"primera clase\"))"
   ]
  },
  {
   "cell_type": "markdown",
   "metadata": {},
   "source": [
    "Las cadenas deben quedar delimitadas, de lo contrario se muestra el siguiente error:"
   ]
  },
  {
   "cell_type": "code",
   "execution_count": 29,
   "metadata": {},
   "outputs": [
    {
     "ename": "SyntaxError",
     "evalue": "EOL while scanning string literal (<ipython-input-29-f9f2067517d2>, line 1)",
     "output_type": "error",
     "traceback": [
      "\u001b[0;36m  File \u001b[0;32m\"<ipython-input-29-f9f2067517d2>\"\u001b[0;36m, line \u001b[0;32m1\u001b[0m\n\u001b[0;31m    print(\"a)\u001b[0m\n\u001b[0m             ^\u001b[0m\n\u001b[0;31mSyntaxError\u001b[0m\u001b[0;31m:\u001b[0m EOL while scanning string literal\n"
     ]
    }
   ],
   "source": [
    "print(\"a)"
   ]
  },
  {
   "cell_type": "markdown",
   "metadata": {},
   "source": [
    "Una cadena, al igual que un entero, puede tener un tamaño arbitrareamente largo, sólo limitado por la cantidad de memoria."
   ]
  },
  {
   "cell_type": "code",
   "execution_count": 30,
   "metadata": {},
   "outputs": [
    {
     "name": "stdout",
     "output_type": "stream",
     "text": [
      "abcdefghijklmnopqrstuvwxyzabcdefghijklmnopqrstuvwxyzabcdefghijklmnopqrstuvwxyzabcdefghijklmnopqrstuvwxyzabcdefghijklmnopqrstuvwxyz\n"
     ]
    }
   ],
   "source": [
    "print(\"abcdefghijklmnopqrstuvwxyzabcdefghijklmnopqrstuvwxyzabcdefghijklmnopqrstuvwxyzabcdefghijklmnopqrstuvwxyzabcdefghijklmnopqrstuvwxyz\")"
   ]
  },
  {
   "cell_type": "markdown",
   "metadata": {},
   "source": [
    "También existe la cadena vacía, como su nombre indica, esta cadena no contiene ningún caracter."
   ]
  },
  {
   "cell_type": "code",
   "execution_count": 31,
   "metadata": {
    "scrolled": true
   },
   "outputs": [
    {
     "name": "stdout",
     "output_type": "stream",
     "text": [
      "\n",
      "\n"
     ]
    }
   ],
   "source": [
    "print('')\n",
    "print(\"\")"
   ]
  },
  {
   "cell_type": "markdown",
   "metadata": {},
   "source": [
    "El constructor <i>str()</i> nos permite crear una cadena a partir de un número."
   ]
  },
  {
   "cell_type": "code",
   "execution_count": 32,
   "metadata": {},
   "outputs": [
    {
     "name": "stdout",
     "output_type": "stream",
     "text": [
      "<class 'str'>\n"
     ]
    }
   ],
   "source": [
    "print(type(str(2.2)))"
   ]
  },
  {
   "cell_type": "markdown",
   "metadata": {},
   "source": [
    "#### Comillas simples vs comillas dobles"
   ]
  },
  {
   "cell_type": "markdown",
   "metadata": {},
   "source": [
    "Podemos combinar comillas simples y dobles. Para incluir una única comilla simple o doble dentro del texto, es importante delimitar la cadena con el otro tipo de comilla. Por ejemplo:"
   ]
  },
  {
   "cell_type": "code",
   "execution_count": 33,
   "metadata": {
    "scrolled": true
   },
   "outputs": [
    {
     "name": "stdout",
     "output_type": "stream",
     "text": [
      "La cadena incluye una comilla simple (').\n",
      "La cadena incluye dos comillas simples ('').\n",
      "La cadena incluye una comilla doble (\").\n",
      "La cadena incluye dos comillas dobles (\"\").\n"
     ]
    }
   ],
   "source": [
    "print(\"La cadena incluye una comilla simple (').\")\n",
    "print(\"La cadena incluye dos comillas simples ('').\")\n",
    "print('La cadena incluye una comilla doble (\").')\n",
    "print('La cadena incluye dos comillas dobles (\"\").')"
   ]
  },
  {
   "cell_type": "markdown",
   "metadata": {},
   "source": [
    "Hay cierta convención sobre el uso de comillas simples para un sólo caracter o una palabra/indicador, y comillas dobles para frases y/o textos largos y multilíneas. Es importante ser consistente en el código y mantener la convención que se haya decidido emplear, aunque nada impide el uso de uno u otro. No obstante, el uso de comillas dobles en inglés se emplea más frecuentemente por el uso de contracciones (it's) y evitar caracteres de espacio que veremos a continuación."
   ]
  },
  {
   "cell_type": "markdown",
   "metadata": {},
   "source": [
    "#### Caracteres de espacio (escape characters)"
   ]
  },
  {
   "cell_type": "markdown",
   "metadata": {},
   "source": [
    "Usos:\n",
    "\n",
    "- Eliminar la interpretación de ciertos caracteres dentro de la cadena.\n",
    "- Añadir una interpretación especial a ciertos caracteres dentro de la cadena."
   ]
  },
  {
   "cell_type": "markdown",
   "metadata": {},
   "source": [
    "Ejemplos de eliminación de caracter:"
   ]
  },
  {
   "cell_type": "code",
   "execution_count": 34,
   "metadata": {},
   "outputs": [
    {
     "name": "stdout",
     "output_type": "stream",
     "text": [
      "La barra invertida evita que \" cierre comilla doble prematuramente.\n",
      "La barra invertida evita que ' cierre comilla simple prematuramente.\n",
      "Para mostrar una barra invertida incluye dos barras: \\.\n"
     ]
    }
   ],
   "source": [
    "print(\"La barra invertida evita que \\\" cierre comilla doble prematuramente.\")\n",
    "print('La barra invertida evita que \\' cierre comilla simple prematuramente.')\n",
    "print(\"Para mostrar una barra invertida incluye dos barras: \\\\.\")"
   ]
  },
  {
   "cell_type": "markdown",
   "metadata": {},
   "source": [
    "Ejemplos de caracteres especiales"
   ]
  },
  {
   "cell_type": "code",
   "execution_count": 35,
   "metadata": {},
   "outputs": [
    {
     "name": "stdout",
     "output_type": "stream",
     "text": [
      "Hola Mundo\n",
      "---------------------\n",
      "Hola \tMundo\n",
      "---------------------\n",
      "Hola \n",
      "Mundo\n",
      "---------------------\n",
      "Hola \n",
      "\t\tMundo\n",
      "---------------------\n",
      "Hola \r",
      "Mundo\n",
      "---------------------\n"
     ]
    }
   ],
   "source": [
    "print(\"Hola Mundo\")\n",
    "print(\"---------------------\")\n",
    "print(\"Hola \\tMundo\")  # \\t tabulación\n",
    "print(\"---------------------\")\n",
    "print(\"Hola \\nMundo\")  # \\n nueva línea\n",
    "print(\"---------------------\")\n",
    "print(\"Hola \\n\\t\\tMundo\")  # \\n\\t\\t nueva línea y dos tabulaciones\n",
    "print(\"---------------------\")\n",
    "print(\"Hola \\rMundo\")  # \\r mueve el cursor antes de \"Mundo\".\n",
    "print(\"---------------------\")"
   ]
  },
  {
   "cell_type": "markdown",
   "metadata": {},
   "source": [
    "Por completitud, en el siguiente enlace se incluyen todas los \"escape characters\": \n",
    " https://Python-reference.readthedocs.io/en/latest/docs/str/escapes.html."
   ]
  },
  {
   "cell_type": "markdown",
   "metadata": {},
   "source": [
    "#### Cadenas brutas (raw strings)"
   ]
  },
  {
   "cell_type": "markdown",
   "metadata": {},
   "source": [
    "Al añadir <i>r</i>  antes de una cadena, los caracteres especiales no tiene efecto y se imprime la cadena intacta."
   ]
  },
  {
   "cell_type": "code",
   "execution_count": 36,
   "metadata": {},
   "outputs": [
    {
     "name": "stdout",
     "output_type": "stream",
     "text": [
      "La barra invertida\n",
      "provoca un salto de línea.\n"
     ]
    }
   ],
   "source": [
    "print(\"La barra invertida\\nprovoca un salto de línea.\")"
   ]
  },
  {
   "cell_type": "code",
   "execution_count": 37,
   "metadata": {},
   "outputs": [
    {
     "name": "stdout",
     "output_type": "stream",
     "text": [
      "La barra invertida\\nno tiene efecto.\n"
     ]
    }
   ],
   "source": [
    "print(r\"La barra invertida\\nno tiene efecto.\")"
   ]
  },
  {
   "cell_type": "markdown",
   "metadata": {},
   "source": [
    "#### Comillas triples"
   ]
  },
  {
   "cell_type": "markdown",
   "metadata": {},
   "source": [
    "También es posible encerrar una cadena entre triples comillas (simples o dobles). De esta forma podremos escribir el texto en varias líneas, y al imprimir la cadena, se respetarán los saltos de línea que introdujimos sin tener que recurrir al caracter <i>\\n</i>, así como las comillas, sin tener que \"escaparlas\"."
   ]
  },
  {
   "cell_type": "code",
   "execution_count": 38,
   "metadata": {},
   "outputs": [
    {
     "name": "stdout",
     "output_type": "stream",
     "text": [
      "\n",
      "Esto es una cadena multilínea.\n",
      "Línea1\n",
      "Línea2\n",
      "Línea3\n",
      "\n"
     ]
    }
   ],
   "source": [
    "print(\"\"\"\n",
    "Esto es una cadena multilínea.\n",
    "Línea1\n",
    "Línea2\n",
    "Línea3\n",
    "\"\"\")"
   ]
  },
  {
   "cell_type": "markdown",
   "metadata": {},
   "source": [
    "### Tipo booleano (bool)"
   ]
  },
  {
   "cell_type": "markdown",
   "metadata": {},
   "source": [
    "Hay otro tipo de datos que se usa muy frecuentemente en programación: el tipo de datos lógico o booleano, llamado así por ser propio del [álgebra de Boole](https://en.wikipedia.org/wiki/Boolean_algebra). Un dato de tipo lógico sólo puede presentar uno de dos valores: **True** o **False**, es decir, verdadero o falso. En Python un booleano es de tipo **bool**."
   ]
  },
  {
   "cell_type": "code",
   "execution_count": 39,
   "metadata": {},
   "outputs": [
    {
     "name": "stdout",
     "output_type": "stream",
     "text": [
      "<class 'bool'>\n"
     ]
    }
   ],
   "source": [
    "print(type(True))"
   ]
  },
  {
   "cell_type": "code",
   "execution_count": 40,
   "metadata": {},
   "outputs": [
    {
     "data": {
      "text/plain": [
       "True"
      ]
     },
     "execution_count": 40,
     "metadata": {},
     "output_type": "execute_result"
    }
   ],
   "source": [
    "isinstance(False, bool)"
   ]
  },
  {
   "cell_type": "code",
   "execution_count": 41,
   "metadata": {},
   "outputs": [
    {
     "name": "stdout",
     "output_type": "stream",
     "text": [
      "<class 'bool'>\n"
     ]
    }
   ],
   "source": [
    "print(type(bool(1)))"
   ]
  },
  {
   "cell_type": "markdown",
   "metadata": {},
   "source": [
    "El constructor <i>bool()</i> nos permite crear un booleano a partir de cualquier otro tipo de datos."
   ]
  },
  {
   "cell_type": "code",
   "execution_count": 42,
   "metadata": {},
   "outputs": [
    {
     "data": {
      "text/plain": [
       "(True, True)"
      ]
     },
     "execution_count": 42,
     "metadata": {},
     "output_type": "execute_result"
    }
   ],
   "source": [
    "bool(1), bool(3)"
   ]
  },
  {
   "cell_type": "code",
   "execution_count": 43,
   "metadata": {},
   "outputs": [
    {
     "data": {
      "text/plain": [
       "(False, False)"
      ]
     },
     "execution_count": 43,
     "metadata": {},
     "output_type": "execute_result"
    }
   ],
   "source": [
    "bool(\"\"), bool(0)"
   ]
  },
  {
   "cell_type": "markdown",
   "metadata": {},
   "source": [
    "### Declaración de variables"
   ]
  },
  {
   "cell_type": "markdown",
   "metadata": {},
   "source": [
    "Una variable es un espacio de la memoria reservado por el intérprete para almacenar un valor.\n",
    "\n",
    "La declaración de una variable es la asignación de un valor a una variable mediante el signo de igual, <i>=</i>. La expresión a la izquieda de <i>=</i> es el nombre de la variable y la expresión a la derecha es el valor almacenado.\n",
    "\n",
    "En Python no se requiere especificar el tipo de la variable, el intérprete reserva el espacio necesario correspondiente al tipo del valor a asignar (<i>dynamic typing</i>)."
   ]
  },
  {
   "cell_type": "code",
   "execution_count": 44,
   "metadata": {},
   "outputs": [
    {
     "name": "stdout",
     "output_type": "stream",
     "text": [
      "Hola Mundo\n",
      "31\n"
     ]
    }
   ],
   "source": [
    "mensaje = \"Hola Mundo\"\n",
    "\n",
    "numero_alumnos = 31\n",
    "\n",
    "print(mensaje)\n",
    "print(numero_alumnos)"
   ]
  },
  {
   "cell_type": "code",
   "execution_count": 45,
   "metadata": {},
   "outputs": [
    {
     "name": "stdout",
     "output_type": "stream",
     "text": [
      "<class 'str'>\n",
      "<class 'int'>\n"
     ]
    }
   ],
   "source": [
    "print(type(mensaje))\n",
    "print(type(numero_alumnos))"
   ]
  },
  {
   "cell_type": "code",
   "execution_count": 46,
   "metadata": {},
   "outputs": [
    {
     "data": {
      "text/plain": [
       "True"
      ]
     },
     "execution_count": 46,
     "metadata": {},
     "output_type": "execute_result"
    }
   ],
   "source": [
    "isinstance(numero_alumnos, int)"
   ]
  },
  {
   "cell_type": "markdown",
   "metadata": {},
   "source": [
    "Python permite multiasignación. Podemos asignar un mismo valor a varias variables, o asignar multiples valores a multiples variables en una única expresión."
   ]
  },
  {
   "cell_type": "code",
   "execution_count": 47,
   "metadata": {},
   "outputs": [],
   "source": [
    "var_a = var_b = var_c = 1"
   ]
  },
  {
   "cell_type": "code",
   "execution_count": 48,
   "metadata": {},
   "outputs": [
    {
     "name": "stdout",
     "output_type": "stream",
     "text": [
      "1 1 1\n"
     ]
    }
   ],
   "source": [
    "print(var_a, var_b, var_c)"
   ]
  },
  {
   "cell_type": "code",
   "execution_count": 49,
   "metadata": {},
   "outputs": [
    {
     "name": "stdout",
     "output_type": "stream",
     "text": [
      "1 2\n"
     ]
    }
   ],
   "source": [
    "var_1, var_2 = 1, 2\n",
    "print(var_1, var_2)"
   ]
  },
  {
   "cell_type": "markdown",
   "metadata": {},
   "source": [
    "Una aplicación de la multiasignación es el intercambio de valores entre variables, sin tener que almacenar variables intermedias."
   ]
  },
  {
   "cell_type": "code",
   "execution_count": 50,
   "metadata": {},
   "outputs": [
    {
     "name": "stdout",
     "output_type": "stream",
     "text": [
      "b a c\n"
     ]
    }
   ],
   "source": [
    "var_a, var_b, var_c = \"a\", \"b\", \"c\"\n",
    "var_a, var_b, var_c = var_b, var_a, var_c\n",
    "print(var_a, var_b, var_c)"
   ]
  },
  {
   "cell_type": "code",
   "execution_count": 51,
   "metadata": {},
   "outputs": [
    {
     "name": "stdout",
     "output_type": "stream",
     "text": [
      "2 1\n"
     ]
    }
   ],
   "source": [
    "var_1, var_2 = var_2, var_1\n",
    "print(var_1, var_2)"
   ]
  },
  {
   "cell_type": "markdown",
   "metadata": {},
   "source": [
    "#### Reglas para nombras variables"
   ]
  },
  {
   "cell_type": "markdown",
   "metadata": {},
   "source": [
    "* El nombre de una variable sólo puede contener letras, números y barras bajas (<i>underscore</i>). El nombre de una variable puede empezar con un <i>underscore</i> o letra pero no con un número.\n",
    "* El nombre de una variable debe ser en minúscula.\n",
    "* El uso de espacios en el nombre de una variable no está permitido. Reemplaza los espacios por <i>underscores</i>.\n",
    "* No se pueden usar palabras reservadas por Python [Python palabras reservadas](http://docs.python.org/3/reference/lexical_analysis.html#keywords).\n",
    "* El nombre de una variable debe ser descriptivo y conciso. Por ejemplo, mejor \"num_filas\" que \"n_f\" o \"numero_de_filas\".\n",
    "\n",
    "Existen varios formatos (\"camelCase\", \"PascalCase\" y \"snake_case\"), Python emplea \"snake_case\" para el nombre de variables. Para saber más: https://www.python.org/dev/peps/pep-0008/#function-and-variable-names."
   ]
  },
  {
   "cell_type": "markdown",
   "metadata": {},
   "source": [
    "## Operadores aritméticos <a name=\"operadores_aritmeticos\"></a>\n",
    "[Volver al índice](#indice)  "
   ]
  },
  {
   "cell_type": "markdown",
   "metadata": {},
   "source": [
    "La siguiente lista contiene los operadores aritméticos soportados por los tipos numéricos **int** y **float**. El tipo **complex** también tiene soporte a algunos de ellos."
   ]
  },
  {
   "cell_type": "markdown",
   "metadata": {},
   "source": [
    "| Símbolo | Operación |\n",
    "|----|---|\n",
    "| +  | Suma |\n",
    "| -  | Resta o negación|\n",
    "| *  | Multiplicación |\n",
    "| /  | División |\n",
    "| //  | División entera |\n",
    "| %  | Módulo (o resto) |\n",
    "| **  | Exponenciación |\n",
    "| pow(x, y)  | Exponenciación |\n",
    "| abs(x)| Valor absoluto |\n",
    "|divmod(x, y) | División entera y resto |"
   ]
  },
  {
   "cell_type": "markdown",
   "metadata": {},
   "source": [
    "Veamos algunos ejemplos:"
   ]
  },
  {
   "cell_type": "code",
   "execution_count": 52,
   "metadata": {},
   "outputs": [
    {
     "name": "stdout",
     "output_type": "stream",
     "text": [
      "Suma: 37.3\n",
      "Resta: -21\n",
      "Multiplicación: 17.5\n",
      "División: 0.19230769230769232\n",
      "División entera: 5\n",
      "Valor absoluto: 2\n",
      "Módulo: 1\n",
      "Divmod: (5, 1)\n",
      "Exponenciación: 279.5084971874737\n"
     ]
    }
   ],
   "source": [
    "a = 26\n",
    "b = 11.3\n",
    "c = 5\n",
    "d = 3.5\n",
    "e = -2\n",
    "\n",
    "# Suma: añade valores a cada lado del operador\n",
    "print('Suma:', a + b)\n",
    "\n",
    "# Resta: resta el operando de la derecha del operador de la izquierda\n",
    "print('Resta:', c - a)\n",
    "\n",
    "# Multiplicación: multiplica los valores de ambos lados del operador\n",
    "print('Multiplicación:', d * c)\n",
    "\n",
    "# División: división con el numerador de la izquierda del operando y el denominador de la derecha\n",
    "print('División:', c / a)\n",
    "\n",
    "# División entera: devuelve la parte entera\n",
    "print('División entera:', a // c)\n",
    "\n",
    "# Valor absoluto\n",
    "print(\"Valor absoluto:\", abs(e))\n",
    "\n",
    "# Módulo, divide el operando de la izquierda por el \n",
    "# operador del lado derecho y devuelve el resto.\n",
    "print('Módulo:', a % c)\n",
    "\n",
    "# Divmod: parte entera y módulo o residuo\n",
    "print('Divmod:', divmod(a, c))\n",
    "\n",
    "# Exponente, realiza el cálculo exponencial de los operadores\n",
    "print('Exponenciación:', c ** d)"
   ]
  },
  {
   "cell_type": "markdown",
   "metadata": {},
   "source": [
    "Python da soporte a operaciones aritméticas con tipos mixtos. El resultado es del tipo numérico de mayor complejidad. De menor a mayor complejidad:\n",
    "\n",
    "1. int\n",
    "2. float\n",
    "3. complex\n",
    "\n",
    "Es decir: **int** es un caso particular de **float**, y **float** es, a su vez, un caso particular de **complex**."
   ]
  },
  {
   "cell_type": "code",
   "execution_count": 53,
   "metadata": {
    "scrolled": true
   },
   "outputs": [
    {
     "name": "stdout",
     "output_type": "stream",
     "text": [
      "6.0\n",
      "4j\n",
      "(15.1-1j)\n"
     ]
    }
   ],
   "source": [
    "print(3 + 3.0)\n",
    "print(3+4j - 3)\n",
    "print(3.0-5j + 4j + 12.1)"
   ]
  },
  {
   "cell_type": "markdown",
   "metadata": {},
   "source": [
    "El módulo [**math**](#https://docs.python.org/3.7/library/math.html) proporciona funciones matemáticas. Para importar un módulo, empleamos la declaración **import** seguido del nombre del módulo.\n",
    "\n",
    "---\n",
    "&#x26a0;&#xfe0f; El uso avanzado de **imports** se introducirá más adelante. Para l@s curios@s: https://docs.python.org/3/reference/import.html\n",
    "\n",
    "---"
   ]
  },
  {
   "cell_type": "code",
   "execution_count": 54,
   "metadata": {},
   "outputs": [],
   "source": [
    "import math"
   ]
  },
  {
   "cell_type": "code",
   "execution_count": 55,
   "metadata": {},
   "outputs": [
    {
     "data": {
      "text/plain": [
       "3"
      ]
     },
     "execution_count": 55,
     "metadata": {},
     "output_type": "execute_result"
    }
   ],
   "source": [
    "math.ceil(2.2)"
   ]
  },
  {
   "cell_type": "code",
   "execution_count": 56,
   "metadata": {},
   "outputs": [
    {
     "data": {
      "text/plain": [
       "9"
      ]
     },
     "execution_count": 56,
     "metadata": {},
     "output_type": "execute_result"
    }
   ],
   "source": [
    "math.floor(9.99)"
   ]
  },
  {
   "cell_type": "code",
   "execution_count": 57,
   "metadata": {},
   "outputs": [
    {
     "name": "stdout",
     "output_type": "stream",
     "text": [
      "9.4\n",
      "9.89\n"
     ]
    }
   ],
   "source": [
    "print(round(9.45, 1))\n",
    "print(round(9.889, 2))"
   ]
  },
  {
   "cell_type": "markdown",
   "metadata": {},
   "source": [
    "## Operadores relacionales (comparaciones)<a name=\"operadores_relacionales\"></a>\n",
    "[Volver al índice](#indice)"
   ]
  },
  {
   "cell_type": "markdown",
   "metadata": {},
   "source": [
    "Los valores booleanos son el resultado de expresiones que utilizan operadores relacionales (comparaciones entre valores)."
   ]
  },
  {
   "cell_type": "markdown",
   "metadata": {},
   "source": [
    "| Símbolo | Operación |\n",
    "|----|---|\n",
    "| == | igual |\n",
    "| !=  | no igual |\n",
    "| < | menor que|\n",
    "| > | mayor que |\n",
    "| <=  | menor o igual que |\n",
    "| >=  | mayor o igual que |\n",
    "| is  | identidad |"
   ]
  },
  {
   "cell_type": "code",
   "execution_count": 58,
   "metadata": {},
   "outputs": [
    {
     "data": {
      "text/plain": [
       "True"
      ]
     },
     "execution_count": 58,
     "metadata": {},
     "output_type": "execute_result"
    }
   ],
   "source": [
    "5 < 10  # el resultado es True"
   ]
  },
  {
   "cell_type": "code",
   "execution_count": 59,
   "metadata": {},
   "outputs": [
    {
     "data": {
      "text/plain": [
       "False"
      ]
     },
     "execution_count": 59,
     "metadata": {},
     "output_type": "execute_result"
    }
   ],
   "source": [
    "5 >= 10  # el resultado es False"
   ]
  },
  {
   "cell_type": "code",
   "execution_count": 60,
   "metadata": {},
   "outputs": [
    {
     "data": {
      "text/plain": [
       "True"
      ]
     },
     "execution_count": 60,
     "metadata": {},
     "output_type": "execute_result"
    }
   ],
   "source": [
    "\"hola\" == \"hola\"  # el resultado es True"
   ]
  },
  {
   "cell_type": "code",
   "execution_count": 61,
   "metadata": {},
   "outputs": [
    {
     "data": {
      "text/plain": [
       "True"
      ]
     },
     "execution_count": 61,
     "metadata": {},
     "output_type": "execute_result"
    }
   ],
   "source": [
    "13 != 7  # el resultado es False"
   ]
  },
  {
   "cell_type": "markdown",
   "metadata": {},
   "source": [
    "El operador **is** evalua si ambas variables se refieren al mismo objeto en memoria. \n",
    "Tema avanzado: https://realpython.com/python-is-identity-vs-equality/ para saber más sobre las diferencias entre los operadores <i>=</i> e **is**."
   ]
  },
  {
   "cell_type": "code",
   "execution_count": 62,
   "metadata": {},
   "outputs": [
    {
     "data": {
      "text/plain": [
       "True"
      ]
     },
     "execution_count": 62,
     "metadata": {},
     "output_type": "execute_result"
    }
   ],
   "source": [
    "a = \"100\"\n",
    "b = \"100\"\n",
    "a is b"
   ]
  },
  {
   "cell_type": "markdown",
   "metadata": {},
   "source": [
    "Como se ha comentado, el resultado de una comparación es un valor booleano. Este valor se puede almacenar en una variable. Por ejemplo:"
   ]
  },
  {
   "cell_type": "code",
   "execution_count": 63,
   "metadata": {},
   "outputs": [
    {
     "name": "stdout",
     "output_type": "stream",
     "text": [
      "False\n"
     ]
    }
   ],
   "source": [
    "cadena_1 = \"Hola\"\n",
    "cadena_2 = \"Halo\"\n",
    "check = cadena_1 == cadena_2\n",
    "print(check)"
   ]
  },
  {
   "cell_type": "markdown",
   "metadata": {},
   "source": [
    "Podemos encadenar comparaciones. Por ejemplo para ver si el valor de una variable está comprendido entre dos valores."
   ]
  },
  {
   "cell_type": "code",
   "execution_count": 64,
   "metadata": {},
   "outputs": [
    {
     "data": {
      "text/plain": [
       "True"
      ]
     },
     "execution_count": 64,
     "metadata": {},
     "output_type": "execute_result"
    }
   ],
   "source": [
    "x = 4\n",
    "3 < x < 5"
   ]
  },
  {
   "cell_type": "markdown",
   "metadata": {},
   "source": [
    "## Operadores lógicos <a name=\"operadores_logicos\"></a>\n",
    "[Volver al índice](#indice)"
   ]
  },
  {
   "cell_type": "markdown",
   "metadata": {},
   "source": [
    "Las cuatro operaciones básicas entre valores de tipo booleano se muestran en la siguiente tabla."
   ]
  },
  {
   "cell_type": "markdown",
   "metadata": {},
   "source": [
    "| Símbolo | Operación |\n",
    "|----|---|\n",
    "| and | https://en.wikipedia.org/wiki/AND_gate |\n",
    "| or  | https://en.wikipedia.org/wiki/OR_gate |\n",
    "| ^   | https://en.wikipedia.org/wiki/XOR_gate |\n",
    "| not | https://en.wikipedia.org/wiki/NOT_gate |"
   ]
  },
  {
   "cell_type": "markdown",
   "metadata": {},
   "source": [
    "Veamos la puerta lógica AND:"
   ]
  },
  {
   "cell_type": "code",
   "execution_count": 65,
   "metadata": {},
   "outputs": [
    {
     "name": "stdout",
     "output_type": "stream",
     "text": [
      "False\n",
      "False\n",
      "False\n",
      "True\n"
     ]
    }
   ],
   "source": [
    "print(False and False)\n",
    "print(False and True)\n",
    "print(True and False)\n",
    "print(True and True)"
   ]
  },
  {
   "cell_type": "markdown",
   "metadata": {},
   "source": [
    "Para la puerta lógica XOR"
   ]
  },
  {
   "cell_type": "code",
   "execution_count": 66,
   "metadata": {},
   "outputs": [
    {
     "name": "stdout",
     "output_type": "stream",
     "text": [
      "False\n",
      "True\n",
      "True\n",
      "False\n"
     ]
    }
   ],
   "source": [
    "print(False ^ False)\n",
    "print(False ^ True)\n",
    "print(True ^ False)\n",
    "print(True ^ True)"
   ]
  },
  {
   "cell_type": "markdown",
   "metadata": {},
   "source": [
    "Otros ejemplos:"
   ]
  },
  {
   "cell_type": "code",
   "execution_count": 67,
   "metadata": {},
   "outputs": [
    {
     "name": "stdout",
     "output_type": "stream",
     "text": [
      "False\n",
      "False\n"
     ]
    }
   ],
   "source": [
    "print(not True)\n",
    "\n",
    "a = True\n",
    "b = False\n",
    "c = a and b\n",
    "print(c ^ b)"
   ]
  },
  {
   "cell_type": "markdown",
   "metadata": {},
   "source": [
    "## Precedencia de los operadores <a name=\"precedencia_operadores\"></a>\n",
    "[Volver al índice](#indice)"
   ]
  },
  {
   "cell_type": "markdown",
   "metadata": {},
   "source": [
    "Si varios operadores se combinan en una expresión, Python aplica las reglas de precedencia para saber el orden de ejecución de las operaciones.\n",
    "\n",
    "\n",
    "| Operando | Prioridad |\n",
    "|----|---|\n",
    "| ** | 1|\n",
    "| +, - (cambio de signo)  | 2 |\n",
    "| *, /, %, // | 3|\n",
    "| +, - (suma y resta) | 4 |\n",
    "| <, <=, >, >=, !=, == | 5 |\n",
    "| not, or, and  | 6 |"
   ]
  },
  {
   "cell_type": "code",
   "execution_count": 68,
   "metadata": {},
   "outputs": [
    {
     "name": "stdout",
     "output_type": "stream",
     "text": [
      "23.333333333333332\n",
      "True\n",
      "True\n"
     ]
    }
   ],
   "source": [
    "a = 20\n",
    "b = 10\n",
    "c = 15\n",
    "d = 5\n",
    "\n",
    "print(a + b / c * d)            # 20 + (10 / 15) * 5 \n",
    "print(b % d * a ** 2 <= c)      # 0 <= 15\n",
    "print(a ** 1 / 2 != a ** 0.5)   # (10 ** 1) / 2 != 10 ** 0.5"
   ]
  },
  {
   "cell_type": "markdown",
   "metadata": {},
   "source": [
    "Empleando el paréntesis podemos aclarar el orden de evaluación de las operaciones. "
   ]
  },
  {
   "cell_type": "code",
   "execution_count": 69,
   "metadata": {
    "scrolled": false
   },
   "outputs": [
    {
     "name": "stdout",
     "output_type": "stream",
     "text": [
      "10.0\n",
      "False\n",
      "False\n"
     ]
    }
   ],
   "source": [
    "print((a + b) / c * d)            # 30 / 15 * 5 \n",
    "print((b % (d * a)) ** 2 <= c)    # (10 % 100) ** 2 <= 15\n",
    "print(a ** (1 / 2) != a ** 0.5)   # 10 ** (1 / 2) != 10 ** 0.5"
   ]
  },
  {
   "cell_type": "markdown",
   "metadata": {},
   "source": [
    "También es aplicable a operadores lógicos."
   ]
  },
  {
   "cell_type": "code",
   "execution_count": 70,
   "metadata": {},
   "outputs": [
    {
     "data": {
      "text/plain": [
       "True"
      ]
     },
     "execution_count": 70,
     "metadata": {},
     "output_type": "execute_result"
    }
   ],
   "source": [
    "not ((True and False) ^ False)"
   ]
  },
  {
   "cell_type": "markdown",
   "metadata": {},
   "source": [
    "## Operaciones con cadenas de caracteres <a name=\"operaciones_cadenas\"></a>\n",
    "[Volver al índice](#indice)"
   ]
  },
  {
   "cell_type": "markdown",
   "metadata": {
    "scrolled": true
   },
   "source": [
    "En esta sección se presentan algunas operaciones que son posibles entre cadenas de caracteres."
   ]
  },
  {
   "cell_type": "markdown",
   "metadata": {},
   "source": [
    "### Concatenación y multiplicación de cadenas de caracteres"
   ]
  },
  {
   "cell_type": "markdown",
   "metadata": {},
   "source": [
    "La concatenación de cadenas se puede realizar empleando el operador <i>+</i>. Este es el método más simple y empleado."
   ]
  },
  {
   "cell_type": "code",
   "execution_count": 71,
   "metadata": {},
   "outputs": [
    {
     "name": "stdout",
     "output_type": "stream",
     "text": [
      "abc\n",
      "nombre apellido\n"
     ]
    }
   ],
   "source": [
    "print(\"a\" + \"b\" + \"c\")\n",
    "\n",
    "cadena = \"nombre\"\n",
    "print(cadena + ' ' + \"apellido\")"
   ]
  },
  {
   "cell_type": "markdown",
   "metadata": {},
   "source": [
    "El término multiplicación aplicado a cadenas se refiere a la repetición de una cadena un número de veces (entero)."
   ]
  },
  {
   "cell_type": "code",
   "execution_count": 72,
   "metadata": {},
   "outputs": [
    {
     "name": "stdout",
     "output_type": "stream",
     "text": [
      "aaa\n"
     ]
    }
   ],
   "source": [
    "print('a' * 3)"
   ]
  },
  {
   "cell_type": "markdown",
   "metadata": {},
   "source": [
    "Python no realiza una conversión implícita a cadena en el caso de concatenar variables de tipo **str** con variables de tipo numérico (**int**, **float**, **complex**)."
   ]
  },
  {
   "cell_type": "code",
   "execution_count": 73,
   "metadata": {},
   "outputs": [
    {
     "ename": "TypeError",
     "evalue": "can only concatenate str (not \"int\") to str",
     "output_type": "error",
     "traceback": [
      "\u001b[0;31m---------------------------------------------------------------------------\u001b[0m",
      "\u001b[0;31mTypeError\u001b[0m                                 Traceback (most recent call last)",
      "\u001b[0;32m<ipython-input-73-b2ae469c1b25>\u001b[0m in \u001b[0;36m<module>\u001b[0;34m\u001b[0m\n\u001b[0;32m----> 1\u001b[0;31m \u001b[0;34m\"Hola\"\u001b[0m \u001b[0;34m+\u001b[0m \u001b[0;36m2\u001b[0m\u001b[0;34m\u001b[0m\u001b[0;34m\u001b[0m\u001b[0m\n\u001b[0m",
      "\u001b[0;31mTypeError\u001b[0m: can only concatenate str (not \"int\") to str"
     ]
    }
   ],
   "source": [
    "\"Hola\" + 2"
   ]
  },
  {
   "cell_type": "markdown",
   "metadata": {},
   "source": [
    "Empleando el constructor <i>str()</i>, introducido anteriormente, podemos hacer la conversión antes de concatenar."
   ]
  },
  {
   "cell_type": "code",
   "execution_count": 74,
   "metadata": {},
   "outputs": [
    {
     "data": {
      "text/plain": [
       "'Hola2Hola2'"
      ]
     },
     "execution_count": 74,
     "metadata": {},
     "output_type": "execute_result"
    }
   ],
   "source": [
    "(\"Hola\" + str(2)) * 2"
   ]
  },
  {
   "cell_type": "markdown",
   "metadata": {},
   "source": [
    "Las cadenas en Python se concatenan automáticamente. Esto es de utilidad cuando queremos imprimir una frase en multiples líneas (en la siguiente sección veremos un ejemplo)."
   ]
  },
  {
   "cell_type": "code",
   "execution_count": 75,
   "metadata": {},
   "outputs": [
    {
     "data": {
      "text/plain": [
       "'ab'"
      ]
     },
     "execution_count": 75,
     "metadata": {},
     "output_type": "execute_result"
    }
   ],
   "source": [
    "\"a\" \"b\""
   ]
  },
  {
   "cell_type": "markdown",
   "metadata": {},
   "source": [
    "### Métodos del tipo **str**"
   ]
  },
  {
   "cell_type": "markdown",
   "metadata": {},
   "source": [
    "Una variable de tipo **str** dispone de los siguientes métodos.\n",
    "\n",
    "---\n",
    "&#x26a0;&#xfe0f; Un método es una función que pertenece a un objeto y realiza cambios sobre el mismo. Los métodos se llaman usando <i>variable.metodo()</i>, donde los paréntesis pueden estar vacíos o contener valores (argumentos de la función).\n",
    "\n",
    "---"
   ]
  },
  {
   "cell_type": "code",
   "execution_count": 76,
   "metadata": {},
   "outputs": [
    {
     "name": "stdout",
     "output_type": "stream",
     "text": [
      "['__add__', '__class__', '__contains__', '__delattr__', '__dir__', '__doc__', '__eq__', '__format__', '__ge__', '__getattribute__', '__getitem__', '__getnewargs__', '__gt__', '__hash__', '__init__', '__init_subclass__', '__iter__', '__le__', '__len__', '__lt__', '__mod__', '__mul__', '__ne__', '__new__', '__reduce__', '__reduce_ex__', '__repr__', '__rmod__', '__rmul__', '__setattr__', '__sizeof__', '__str__', '__subclasshook__', 'capitalize', 'casefold', 'center', 'count', 'encode', 'endswith', 'expandtabs', 'find', 'format', 'format_map', 'index', 'isalnum', 'isalpha', 'isascii', 'isdecimal', 'isdigit', 'isidentifier', 'islower', 'isnumeric', 'isprintable', 'isspace', 'istitle', 'isupper', 'join', 'ljust', 'lower', 'lstrip', 'maketrans', 'partition', 'replace', 'rfind', 'rindex', 'rjust', 'rpartition', 'rsplit', 'rstrip', 'split', 'splitlines', 'startswith', 'strip', 'swapcase', 'title', 'translate', 'upper', 'zfill']\n"
     ]
    }
   ],
   "source": [
    "print(dir(str))"
   ]
  },
  {
   "cell_type": "markdown",
   "metadata": {},
   "source": [
    "#### Minúsculas y mayúsculas"
   ]
  },
  {
   "cell_type": "markdown",
   "metadata": {},
   "source": [
    "En esta sección nos vamos a centrar en aquellos métodos que nos permite modificar las letras minúsculas y mayúsculas de una cadena (otros métodos se verán a lo largo del curso)."
   ]
  },
  {
   "cell_type": "code",
   "execution_count": 77,
   "metadata": {},
   "outputs": [
    {
     "name": "stdout",
     "output_type": "stream",
     "text": [
      "ABC\n"
     ]
    }
   ],
   "source": [
    "cadena = \"abc\"\n",
    "print(cadena.upper())  # convertir minúsculas a mayúsculas"
   ]
  },
  {
   "cell_type": "code",
   "execution_count": 78,
   "metadata": {},
   "outputs": [
    {
     "name": "stdout",
     "output_type": "stream",
     "text": [
      "abc\n"
     ]
    }
   ],
   "source": [
    "cadena = \"ABC\"\n",
    "print(cadena.lower())  # convertir mayúsculas a minúsculas"
   ]
  },
  {
   "cell_type": "code",
   "execution_count": 79,
   "metadata": {},
   "outputs": [
    {
     "name": "stdout",
     "output_type": "stream",
     "text": [
      "AbC\n"
     ]
    }
   ],
   "source": [
    "cadena = \"aBc\"\n",
    "print(cadena.swapcase())  # convertir mayúsculas a minúsculas y viceversa"
   ]
  },
  {
   "cell_type": "code",
   "execution_count": 80,
   "metadata": {},
   "outputs": [
    {
     "name": "stdout",
     "output_type": "stream",
     "text": [
      "guido\n",
      "Guido\n"
     ]
    }
   ],
   "source": [
    "nombre = \"guido\"\n",
    "print(nombre)\n",
    "print(nombre.capitalize())  # convertir la primera letra a mayúscula"
   ]
  },
  {
   "cell_type": "code",
   "execution_count": 81,
   "metadata": {},
   "outputs": [
    {
     "name": "stdout",
     "output_type": "stream",
     "text": [
      "guido van rossum\n",
      "Guido Van Rossum\n"
     ]
    }
   ],
   "source": [
    "nombre_apellido = \"guido van rossum\"\n",
    "print(nombre_apellido)\n",
    "print(nombre_apellido.title())  # convertir la primera letra de cada palabra a mayúscula"
   ]
  },
  {
   "cell_type": "markdown",
   "metadata": {},
   "source": [
    "#### Eliminar espacios en cadenas de caracteres"
   ]
  },
  {
   "cell_type": "markdown",
   "metadata": {},
   "source": [
    "Siguiendo con los métodos para **str**, veamos tres métodos para eliminar los espacios vacíos dentro de una cadena. En más ocasiones de las deseables, las bases de datos contienen registros brutos que incluyen espacios vacíos entre otros errores introducidos de forma manual. Para eliminarlos, se pueden emplear los métodos <i>lstrip()</i>, <i>rstrip()</i>, <i>strip()</i>."
   ]
  },
  {
   "cell_type": "code",
   "execution_count": 82,
   "metadata": {},
   "outputs": [
    {
     "name": "stdout",
     "output_type": "stream",
     "text": [
      "-Guido Van Rossum    -\n",
      "-    Guido Van Rossum-\n",
      "-Guido Van Rossum-\n"
     ]
    }
   ],
   "source": [
    "registro = \"    Guido Van Rossum    \"\n",
    "\n",
    "print(\"-\" + registro.lstrip() + \"-\")\n",
    "print(\"-\" + registro.rstrip() + \"-\")\n",
    "print(\"-\" + registro.strip() + \"-\")"
   ]
  },
  {
   "cell_type": "markdown",
   "metadata": {},
   "source": [
    "## Función <i>print</i> y formatos de cadena de caracteres <a name=\"funcion_print_formatos\"></a>\n",
    "[Volver al índice](#indice)"
   ]
  },
  {
   "cell_type": "markdown",
   "metadata": {},
   "source": [
    "Python tiene varios métodos para dar formato a cadenas de caracteres. En esta sección veremos el método <i>.format()</i> y el uso de <i>f-strings</i>."
   ]
  },
  {
   "cell_type": "markdown",
   "metadata": {},
   "source": [
    "### Método <i>.format()</i>"
   ]
  },
  {
   "cell_type": "markdown",
   "metadata": {},
   "source": [
    "El uso más habitual es aplicar formato posicional. Por defecto los argumentos a la función <i>.format()</i> se imprimen en orden secuencial."
   ]
  },
  {
   "cell_type": "code",
   "execution_count": 83,
   "metadata": {},
   "outputs": [
    {
     "name": "stdout",
     "output_type": "stream",
     "text": [
      "uno dos\n"
     ]
    }
   ],
   "source": [
    "print(\"{} {}\".format('uno', 'dos'))"
   ]
  },
  {
   "cell_type": "code",
   "execution_count": 84,
   "metadata": {},
   "outputs": [
    {
     "name": "stdout",
     "output_type": "stream",
     "text": [
      "dos uno\n"
     ]
    }
   ],
   "source": [
    "# Podemos cambiar el orden especificando en los corchetes\n",
    "# el número de posición para cada argumento.\n",
    "print(\"{1} {0}\".format('uno', 'dos'))"
   ]
  },
  {
   "cell_type": "markdown",
   "metadata": {},
   "source": [
    "Podemos desplazar/alinear un texto hacia la izquierda o derecha empleando entre corchetes los símbolos < y >, respectivamente. También podemos centrar el texto usando el símbolo <i>^</i>."
   ]
  },
  {
   "cell_type": "code",
   "execution_count": 85,
   "metadata": {},
   "outputs": [
    {
     "name": "stdout",
     "output_type": "stream",
     "text": [
      "+      hola\n",
      "hola      +\n",
      "+   hola   +\n"
     ]
    }
   ],
   "source": [
    "print(\"+{:>10}\".format(\"hola\"))\n",
    "print(\"{:<10}+\".format(\"hola\"))\n",
    "print(\"+{:^10}+\".format(\"hola\"))"
   ]
  },
  {
   "cell_type": "markdown",
   "metadata": {},
   "source": [
    "Podemos dar formato a números empleando los siguientes sufijos:\n",
    "* <i>d</i>: entero\n",
    "* <i>f</i>: punto flotante\n",
    "* <i>%</i>: porcentaje\n",
    "* <i>e</i>: notación científica"
   ]
  },
  {
   "cell_type": "code",
   "execution_count": 86,
   "metadata": {},
   "outputs": [
    {
     "name": "stdout",
     "output_type": "stream",
     "text": [
      "Valor con 3 decimales: 0.333\n",
      "Valor con 6 decimales: 0.333333\n"
     ]
    }
   ],
   "source": [
    "valor = 1.0 / 3.0\n",
    "print(\"Valor con 3 decimales: {0:.3f}\\n\"\n",
    "      \"Valor con 6 decimales: {0:.6f}\".format(valor))"
   ]
  },
  {
   "cell_type": "code",
   "execution_count": 87,
   "metadata": {},
   "outputs": [
    {
     "name": "stdout",
     "output_type": "stream",
     "text": [
      "Valor 4.37437275e-11\n"
     ]
    }
   ],
   "source": [
    "# Mostrar 14 caracteres en total con 8 decimales en notación científica.\n",
    "valor = 1.31231231 / 30000011121.1\n",
    "print(\"Valor {0:14.8e}\".format(valor))"
   ]
  },
  {
   "cell_type": "code",
   "execution_count": 88,
   "metadata": {},
   "outputs": [
    {
     "name": "stdout",
     "output_type": "stream",
     "text": [
      "Porcentaje: 50.00%\n",
      "Porcentaje: 50.00%\n"
     ]
    }
   ],
   "source": [
    "print(\"Porcentaje: {0:.2f}%\".format(0.5 * 100))  # Método NO recomendado para porcentajes\n",
    "print(\"Porcentaje: {0:.2%}\".format(0.5))         # Método recomendado para convertir ratio a porcentaje"
   ]
  },
  {
   "cell_type": "markdown",
   "metadata": {},
   "source": [
    "El método <i>.format()</i> también soporta el uso de argumentos para mejorar la legibilidad. Como veremos a continuación, este método guarda cierta similitud a los <i>f-strings</i>."
   ]
  },
  {
   "cell_type": "code",
   "execution_count": 89,
   "metadata": {},
   "outputs": [
    {
     "name": "stdout",
     "output_type": "stream",
     "text": [
      "Guido Van Rossum\n"
     ]
    }
   ],
   "source": [
    "print(\"{nombre} {apellido}\".format(nombre=\"Guido\", apellido=\"Van Rossum\"))"
   ]
  },
  {
   "cell_type": "markdown",
   "metadata": {},
   "source": [
    "### Método <i>f-string</i>"
   ]
  },
  {
   "cell_type": "markdown",
   "metadata": {},
   "source": [
    "En la versión de Python 3.6+ se introdujeron los <i>f-strings</i> con el fin de mejorar la legibilidad. A continuación se muestran algunos de los ejemplos anteriores empleando <i>f-strings</i>."
   ]
  },
  {
   "cell_type": "code",
   "execution_count": 90,
   "metadata": {},
   "outputs": [
    {
     "name": "stdout",
     "output_type": "stream",
     "text": [
      "Valor con 3 decimales: 0.333\n",
      "Valor con 6 decimales: 0.333333\n"
     ]
    }
   ],
   "source": [
    "valor = 1.0 / 3.0\n",
    "print(f\"Valor con 3 decimales: {valor:.3f}\\n\"\n",
    "      f\"Valor con 6 decimales: {valor:.6f}\")"
   ]
  },
  {
   "cell_type": "code",
   "execution_count": 91,
   "metadata": {},
   "outputs": [
    {
     "name": "stdout",
     "output_type": "stream",
     "text": [
      "Porcentaje: 50.00%\n"
     ]
    }
   ],
   "source": [
    "porcentaje = 0.5\n",
    "print(f\"Porcentaje: {porcentaje:.2%}\")"
   ]
  },
  {
   "cell_type": "code",
   "execution_count": 92,
   "metadata": {},
   "outputs": [
    {
     "name": "stdout",
     "output_type": "stream",
     "text": [
      "Guido Van Rossum es el creador de Python.\n"
     ]
    }
   ],
   "source": [
    "nombre = \"Guido\"\n",
    "apellido = \"Van Rossum\"\n",
    "print(f\"{nombre} {apellido} es el creador de Python.\")"
   ]
  },
  {
   "cell_type": "markdown",
   "metadata": {},
   "source": [
    "---\n",
    "## Ejercicios <a name=\"ejercicios\"></a>\n",
    "[Volver al índice](#indice)\n"
   ]
  },
  {
   "cell_type": "markdown",
   "metadata": {},
   "source": [
    "1 - Crea una variable y almacena la frase '¡Hola Mundo!' en ella. Imprime la variable."
   ]
  },
  {
   "cell_type": "code",
   "execution_count": null,
   "metadata": {},
   "outputs": [],
   "source": []
  },
  {
   "cell_type": "markdown",
   "metadata": {},
   "source": [
    "2 - Crea una variable y almacena un mensaje en ella. Imprime la variable. Reescribe la variable con otro mensaje y vuelve a imprimirlo."
   ]
  },
  {
   "cell_type": "code",
   "execution_count": null,
   "metadata": {},
   "outputs": [],
   "source": []
  },
  {
   "cell_type": "markdown",
   "metadata": {},
   "source": [
    "3 - Guarda tu nombre en una variable en minúsculas. Usando esa variable, imprímelo en minúsculas, Título y MAYÚSCULAS."
   ]
  },
  {
   "cell_type": "code",
   "execution_count": null,
   "metadata": {},
   "outputs": [],
   "source": []
  },
  {
   "cell_type": "markdown",
   "metadata": {},
   "source": [
    "4 - Guarda tu nombre y apellidos en variables separadas y luego combínalos para imprimir tu nombre completo. Emplea el formato <i>.format()</i> y <i>f-string</i>."
   ]
  },
  {
   "cell_type": "code",
   "execution_count": null,
   "metadata": {},
   "outputs": [],
   "source": []
  },
  {
   "cell_type": "markdown",
   "metadata": {},
   "source": [
    "5 - Escoge el nombre y apellidos de una persona y guardalos en variables separadas. Usa la concatenación para crear una frase acerca de esta persona. Imprime el mensaje."
   ]
  },
  {
   "cell_type": "code",
   "execution_count": null,
   "metadata": {},
   "outputs": [],
   "source": []
  },
  {
   "cell_type": "markdown",
   "metadata": {},
   "source": [
    "6 - Guarda tu nombre en una variable con espacios en blanco a cada uno de los lados. Imprime el nombre tal y como lo has creado. Elimina los espacios en blanco a la izquierda, a la derecha y finalmente a ambos lados. Imprime todos los mensajes."
   ]
  },
  {
   "cell_type": "code",
   "execution_count": null,
   "metadata": {},
   "outputs": [],
   "source": []
  },
  {
   "cell_type": "markdown",
   "metadata": {},
   "source": [
    "7 - Almacena los resultados de al menos 5 cálculos diferentes en variables separadas. Asegúrate de usar cada operación al menos una vez. Imprime una serie de mensajes informativos, como \"El resultado de la suma 5 + 7 es 12.\"."
   ]
  },
  {
   "cell_type": "code",
   "execution_count": null,
   "metadata": {},
   "outputs": [],
   "source": []
  },
  {
   "cell_type": "markdown",
   "metadata": {},
   "source": [
    "8 - Miriam ha realizado un depósito de 15000€ en el banco BBVA. El depósito tiene una rentabilidad anual del 3.5% (los pagos de realizan el 1 de enero de cada año). ¿Cuánto dinero tendrá Miriam al retirar el depósito dentro de 4 años?. Escribir las instrucciones en Python para calcular el montante inicial, el montante final y las ganancias.\n",
    "\n",
    "Emplea la fórmula de interés compuesto: $V_F = V_A \\cdot (1 + i)^n$. Donde:\n",
    "\n",
    "- $V_F$ es el montante final.\n",
    "- $V_A$ es el montante inicial.\n",
    "- $i$ es el interés o rentabilidad.\n",
    "- $n$ es el número de años."
   ]
  },
  {
   "cell_type": "code",
   "execution_count": null,
   "metadata": {},
   "outputs": [],
   "source": []
  },
  {
   "cell_type": "markdown",
   "metadata": {},
   "source": [
    "9 - ¿Qué resultados se obtendrán al evaluar las siguientes expresiones y asignaciones Python? Calcula primero a mano el valor resultante de cada expresión y comprueba, con la ayuda del ordenador, si tu resultado es correcto."
   ]
  },
  {
   "cell_type": "code",
   "execution_count": null,
   "metadata": {},
   "outputs": [],
   "source": [
    "print('a' * 3 + '/*' * 5 + 2 * 'abc' + '+')"
   ]
  },
  {
   "cell_type": "code",
   "execution_count": null,
   "metadata": {},
   "outputs": [],
   "source": [
    "palindromo = 'abcba'\n",
    "print((4 * '<' + palindromo + '>' * 4) * 2)"
   ]
  },
  {
   "cell_type": "code",
   "execution_count": null,
   "metadata": {},
   "outputs": [],
   "source": [
    "subcadena = '=' + '-' * 3 + '='\n",
    "print('10' * 5 + 4 * subcadena)"
   ]
  },
  {
   "cell_type": "code",
   "execution_count": null,
   "metadata": {},
   "outputs": [],
   "source": [
    "print(2 * '12' + '.' + '3' * 3 + 'e-' + 4 * '76')"
   ]
  },
  {
   "cell_type": "markdown",
   "metadata": {},
   "source": [
    "10 - Identifica regularidades en las siguientes cadenas, y escribe expresiones que, partiendo de subcadenas más cortas y utilizando los operadores de concatenación y repetición, produzcan las cadenas que se muestran. Introduce variables para formar las expresiones si lo consideras oportuno. Comprueba que las expresiones coinciden con las secuencias mostradas."
   ]
  },
  {
   "cell_type": "code",
   "execution_count": null,
   "metadata": {},
   "outputs": [],
   "source": [
    "print('%%%%%./././<-><->')"
   ]
  },
  {
   "cell_type": "code",
   "execution_count": null,
   "metadata": {},
   "outputs": [],
   "source": [
    "print('(@)(@)(@)======(@)(@)(@)======')"
   ]
  },
  {
   "cell_type": "code",
   "execution_count": null,
   "metadata": {},
   "outputs": [],
   "source": [
    "print('asdfasdfasdf=-=-=-=-=-=-=-??????asdfasdf')"
   ]
  },
  {
   "cell_type": "code",
   "execution_count": null,
   "metadata": {},
   "outputs": [],
   "source": [
    "print('........*****---*****---........*****---*****---')"
   ]
  }
 ],
 "metadata": {
  "kernelspec": {
   "display_name": "Python 3",
   "language": "python",
   "name": "python3"
  },
  "language_info": {
   "codemirror_mode": {
    "name": "ipython",
    "version": 3
   },
   "file_extension": ".py",
   "mimetype": "text/x-python",
   "name": "python",
   "nbconvert_exporter": "python",
   "pygments_lexer": "ipython3",
   "version": "3.7.4"
  }
 },
 "nbformat": 4,
 "nbformat_minor": 2
}
